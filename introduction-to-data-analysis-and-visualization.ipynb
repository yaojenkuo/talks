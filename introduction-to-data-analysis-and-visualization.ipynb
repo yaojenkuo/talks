{
 "cells": [
  {
   "cell_type": "markdown",
   "metadata": {
    "slideshow": {
     "slide_type": "slide"
    }
   },
   "source": [
    "# Introduction to Data Analysis and Visualization\n",
    "\n",
    "Kuo, Yao-Jen, 2020-07-11\n",
    "\n",
    "> [slido](https://www.sli.do/) #54913\n",
    ">\n",
    "> <https://bit.ly/2Od6rzs>\n",
    ">\n",
    "> [binder](https://mybinder.org/v2/gh/yaojenkuo/talks/master)"
   ]
  },
  {
   "cell_type": "code",
   "execution_count": 1,
   "metadata": {
    "slideshow": {
     "slide_type": "skip"
    }
   },
   "outputs": [],
   "source": [
    "import os\n",
    "import re\n",
    "from string import ascii_uppercase\n",
    "import numpy as np\n",
    "import matplotlib.pyplot as plt\n",
    "import pandas as pd"
   ]
  },
  {
   "cell_type": "markdown",
   "metadata": {
    "slideshow": {
     "slide_type": "subslide"
    }
   },
   "source": [
    "## TL; DR\n",
    "\n",
    "> In this talk, we are gonna briefly introduce what is data analysis and visualization with modern data science approach."
   ]
  },
  {
   "cell_type": "markdown",
   "metadata": {
    "slideshow": {
     "slide_type": "slide"
    }
   },
   "source": [
    "## About me"
   ]
  },
  {
   "cell_type": "markdown",
   "metadata": {
    "slideshow": {
     "slide_type": "subslide"
    }
   },
   "source": [
    "## A data enthusiast and instructor focused on practical Python/R/SQL"
   ]
  },
  {
   "cell_type": "markdown",
   "metadata": {
    "slideshow": {
     "slide_type": "subslide"
    }
   },
   "source": [
    "## Teaching practical data science online/offline\n",
    "\n",
    "- [如何成為資料分析師：從問題解決到行動方案，Hahow 好學校](https://hahow.in/cr/dajourney)\n",
    "- Visualization and modern data science, Adjunct Instructor, National Taiwan University\n",
    "- Python for data analysis, Instructor, Chunghwa Telecom Academy\n",
    "- Python for data science, Machine learning from scratch, Senior Instructor, CSIE Train, National Taiwan University"
   ]
  },
  {
   "cell_type": "markdown",
   "metadata": {
    "slideshow": {
     "slide_type": "subslide"
    }
   },
   "source": [
    "## Data science instructor focused on commercial banking clients\n",
    "\n",
    "- 2020 DBS Python Training Program\n",
    "- 2019 HNCB Python Training Program\n",
    "- 2017 ESUN Python Training Program"
   ]
  },
  {
   "cell_type": "markdown",
   "metadata": {
    "slideshow": {
     "slide_type": "subslide"
    }
   },
   "source": [
    "## Writing books on data science\n",
    "\n",
    "- [輕鬆學習 R 語言](https://www.books.com.tw/products/0010835361)\n",
    "- [進擊的資料科學](https://www.books.com.tw/products/0010827812)\n",
    "- [新手村逃脫！初心者的 Python 機器學習攻略](https://yaojenkuo.io/ml-newbies/index.html)"
   ]
  },
  {
   "cell_type": "markdown",
   "metadata": {
    "slideshow": {
     "slide_type": "subslide"
    }
   },
   "source": [
    "## Writing tutorials on [Medium](https://medium.com/) with 3k+ followers\n",
    "\n",
    "- Follow my Medium account [@tonykuoyj](https://medium.com/@tonykuoyj)\n",
    "- Or, follow my publication [DataInPoint](https://medium.com/datainpoint)\n",
    "- Or, follow [DataInPoint](https://www.facebook.com/datainpoint) on Facebook"
   ]
  },
  {
   "cell_type": "markdown",
   "metadata": {
    "slideshow": {
     "slide_type": "subslide"
    }
   },
   "source": [
    "## Working experience and eductation\n",
    "\n",
    "- Working experience\n",
    "    - Senior Data Analyst, Coupang Shanghai\n",
    "    - Analytical Consultant, SAS Taiwan\n",
    "    - Management Associate, Chinatrust Banking Corporation Taiwan\n",
    "    - Research Assistant, McKinsey & Company Taiwan\n",
    "- Education\n",
    "    - MBA, National Taiwan University\n",
    "    - BA, National Taiwan University"
   ]
  },
  {
   "cell_type": "markdown",
   "metadata": {
    "slideshow": {
     "slide_type": "subslide"
    }
   },
   "source": [
    "## Loves running with a marathon PR of 2:43:12 at 2019 Seoul Marathon"
   ]
  },
  {
   "cell_type": "markdown",
   "metadata": {
    "slideshow": {
     "slide_type": "subslide"
    }
   },
   "source": [
    "## Future initiatives\n",
    "\n",
    "Make DataInPoint a text-based, in-browser, and subscription-only data science bootcamp. "
   ]
  },
  {
   "cell_type": "markdown",
   "metadata": {
    "slideshow": {
     "slide_type": "slide"
    }
   },
   "source": [
    "## What is data analysis"
   ]
  },
  {
   "cell_type": "markdown",
   "metadata": {
    "slideshow": {
     "slide_type": "subslide"
    }
   },
   "source": [
    "## The definition\n",
    "\n",
    "> We generate questions about a specific topic, we search for answers by exploring, transforming, and modelling data referring to our topic. And then use what we've learned to refine questions or generate new questions.\n",
    "\n",
    "Source: [R for Data Science](https://r4ds.had.co.nz/)"
   ]
  },
  {
   "cell_type": "markdown",
   "metadata": {
    "slideshow": {
     "slide_type": "subslide"
    }
   },
   "source": [
    "## Why data analysis\n",
    "\n",
    "> It is now an era of data-driven strategic thinking, and is probably never coming back."
   ]
  },
  {
   "cell_type": "markdown",
   "metadata": {
    "slideshow": {
     "slide_type": "subslide"
    }
   },
   "source": [
    "## The three means of persuasion that an orator must rely on\n",
    "\n",
    "- ethos\n",
    "- pathos\n",
    "- logos\n",
    "\n",
    "Source: [Aristotle, Rhetoric](https://en.wikipedia.org/wiki/Rhetoric)"
   ]
  },
  {
   "cell_type": "markdown",
   "metadata": {
    "slideshow": {
     "slide_type": "subslide"
    }
   },
   "source": [
    "## It is a lot easier to persuade via ethos or pathos, but it takes time\n",
    "\n",
    "However, logos can be easily acquired once it is a fact and can be proven. Hence, data analysis is often the express way to logos."
   ]
  },
  {
   "cell_type": "markdown",
   "metadata": {
    "slideshow": {
     "slide_type": "subslide"
    }
   },
   "source": [
    "## Let's bring up a topic NOW\n",
    "\n",
    "> 大選開票看哪個里最準？ 「章魚里」神預測告訴你。每次到了選舉，總是會有幾個里開票與大選結果相似，因此被各界視為重點關注的開票區域。\n",
    "\n",
    "Source: <https://www.cw.com.tw/article/5093012>"
   ]
  },
  {
   "cell_type": "markdown",
   "metadata": {
    "slideshow": {
     "slide_type": "subslide"
    }
   },
   "source": [
    "## We can then generate some questions regarding this topic\n",
    "\n",
    "- How to define 「章魚里」?\n",
    "- Can we find out 「章魚里」 based on 2020 presidential data?\n",
    "- Can we find the similarity of our own village?"
   ]
  },
  {
   "cell_type": "markdown",
   "metadata": {
    "slideshow": {
     "slide_type": "subslide"
    }
   },
   "source": [
    "## We'll do this later, now you've got the idea of data analysis, let's move on"
   ]
  },
  {
   "cell_type": "markdown",
   "metadata": {
    "slideshow": {
     "slide_type": "slide"
    }
   },
   "source": [
    "## What is visualization"
   ]
  },
  {
   "cell_type": "markdown",
   "metadata": {
    "slideshow": {
     "slide_type": "subslide"
    }
   },
   "source": [
    "## The definition\n",
    "\n",
    "> Visualization is a tool that addresses the gap between data, function, formula, and viewers. Effective visualizations transform abstract collections of numbers into shapes that viewers quickly grasp and understand.\n",
    "\n",
    "Source: [Data Visualization with JavaScript](https://www.amazon.com/Data-Visualization-JavaScript-Stephen-Thomas-ebook/dp/B00V20IFDG)"
   ]
  },
  {
   "cell_type": "markdown",
   "metadata": {
    "slideshow": {
     "slide_type": "subslide"
    }
   },
   "source": [
    "## Why visualization"
   ]
  },
  {
   "cell_type": "code",
   "execution_count": 2,
   "metadata": {
    "slideshow": {
     "slide_type": "skip"
    }
   },
   "outputs": [],
   "source": [
    "x = np.linspace(0, 4*np.pi)\n",
    "f = np.sin(x)"
   ]
  },
  {
   "cell_type": "markdown",
   "metadata": {
    "slideshow": {
     "slide_type": "subslide"
    }
   },
   "source": [
    "## What are $x$ and $f$"
   ]
  },
  {
   "cell_type": "code",
   "execution_count": 3,
   "metadata": {
    "slideshow": {
     "slide_type": "-"
    }
   },
   "outputs": [
    {
     "name": "stdout",
     "output_type": "stream",
     "text": [
      "[ 0.          0.25645654  0.51291309  0.76936963  1.02582617  1.28228272\n",
      "  1.53873926  1.7951958   2.05165235  2.30810889  2.56456543  2.82102197\n",
      "  3.07747852  3.33393506  3.5903916   3.84684815  4.10330469  4.35976123\n",
      "  4.61621778  4.87267432  5.12913086  5.38558741  5.64204395  5.89850049\n",
      "  6.15495704  6.41141358  6.66787012  6.92432667  7.18078321  7.43723975\n",
      "  7.69369629  7.95015284  8.20660938  8.46306592  8.71952247  8.97597901\n",
      "  9.23243555  9.4888921   9.74534864 10.00180518 10.25826173 10.51471827\n",
      " 10.77117481 11.02763136 11.2840879  11.54054444 11.79700098 12.05345753\n",
      " 12.30991407 12.56637061]\n",
      "[ 0.00000000e+00  2.53654584e-01  4.90717552e-01  6.95682551e-01\n",
      "  8.55142763e-01  9.58667853e-01  9.99486216e-01  9.74927912e-01\n",
      "  8.86599306e-01  7.40277997e-01  5.45534901e-01  3.15108218e-01\n",
      "  6.40702200e-02 -1.91158629e-01 -4.33883739e-01 -6.48228395e-01\n",
      " -8.20172255e-01 -9.38468422e-01 -9.95379113e-01 -9.87181783e-01\n",
      " -9.14412623e-01 -7.81831482e-01 -5.98110530e-01 -3.75267005e-01\n",
      " -1.27877162e-01  1.27877162e-01  3.75267005e-01  5.98110530e-01\n",
      "  7.81831482e-01  9.14412623e-01  9.87181783e-01  9.95379113e-01\n",
      "  9.38468422e-01  8.20172255e-01  6.48228395e-01  4.33883739e-01\n",
      "  1.91158629e-01 -6.40702200e-02 -3.15108218e-01 -5.45534901e-01\n",
      " -7.40277997e-01 -8.86599306e-01 -9.74927912e-01 -9.99486216e-01\n",
      " -9.58667853e-01 -8.55142763e-01 -6.95682551e-01 -4.90717552e-01\n",
      " -2.53654584e-01 -4.89858720e-16]\n"
     ]
    }
   ],
   "source": [
    "print(x)\n",
    "print(f)"
   ]
  },
  {
   "cell_type": "markdown",
   "metadata": {
    "slideshow": {
     "slide_type": "subslide"
    }
   },
   "source": [
    "## $f(x)=sin(x), \\text{where } 0 \\leq x \\leq 4\\pi$"
   ]
  },
  {
   "cell_type": "code",
   "execution_count": 4,
   "metadata": {
    "slideshow": {
     "slide_type": "skip"
    }
   },
   "outputs": [],
   "source": [
    "def plot_sinx(x_arr, y_arr):\n",
    "    fig = plt.figure()\n",
    "    ax = plt.axes()\n",
    "    ax.plot(x_arr, y_arr)\n",
    "    ax.set_xticks([0, np.pi, 2*np.pi, 3*np.pi, 4*np.pi])\n",
    "    ax.set_xticklabels(['$0$', '$\\pi$', '$2\\pi$', '$3\\pi$', '$4\\pi$'])\n",
    "    ax.set_yticks([-1, 0, 1])\n",
    "    ax.set_yticklabels(['$-1$', '$0$', '$1$'])\n",
    "    ax.set_title('$f(x)=sin(x)$')\n",
    "    plt.show()"
   ]
  },
  {
   "cell_type": "code",
   "execution_count": 5,
   "metadata": {},
   "outputs": [
    {
     "data": {
      "image/png": "[encoded data removed]",
      "text/plain": [
       "<Figure size 432x288 with 1 Axes>"
      ]
     },
     "metadata": {
      "needs_background": "light"
     },
     "output_type": "display_data"
    }
   ],
   "source": [
    "plot_sinx(x, f)"
   ]
  },
  {
   "cell_type": "markdown",
   "metadata": {
    "slideshow": {
     "slide_type": "subslide"
    }
   },
   "source": [
    "## What does the following formula stand for\n",
    "\n",
    "$$\\sigma(z) = \\frac{1}{1 + e^{-z}}$$"
   ]
  },
  {
   "cell_type": "code",
   "execution_count": 6,
   "metadata": {
    "slideshow": {
     "slide_type": "skip"
    }
   },
   "outputs": [],
   "source": [
    "def sigmoid(x):\n",
    "    return 1 / (1 + np.exp(-x))\n",
    "\n",
    "def plot_sigmoid(x_arr, y_arr):\n",
    "    fig = plt.figure()\n",
    "    ax = plt.axes()\n",
    "    ax.plot(x_arr, y_arr)\n",
    "    ax.set_yticks([0, 0.5, 1])\n",
    "    ax.set_xticks([])\n",
    "    ax.set_title('$\\sigma(z) = 1/(1+e^{-z})$')\n",
    "    ax.set_xlabel('z')\n",
    "    plt.show()\n",
    "\n",
    "x = np.linspace(-6, 6)\n",
    "S = sigmoid(x)"
   ]
  },
  {
   "cell_type": "code",
   "execution_count": 7,
   "metadata": {
    "slideshow": {
     "slide_type": "subslide"
    }
   },
   "outputs": [
    {
     "data": {
      "image/png": "[encoded data removed]",
      "text/plain": [
       "<Figure size 432x288 with 1 Axes>"
      ]
     },
     "metadata": {
      "needs_background": "light"
     },
     "output_type": "display_data"
    }
   ],
   "source": [
    "plot_sigmoid(x, S)"
   ]
  },
  {
   "cell_type": "markdown",
   "metadata": {
    "slideshow": {
     "slide_type": "subslide"
    }
   },
   "source": [
    "## Visualization also plays a key role in machine learning"
   ]
  },
  {
   "cell_type": "markdown",
   "metadata": {
    "slideshow": {
     "slide_type": "subslide"
    }
   },
   "source": [
    "## Machine learning engineer uses line plot to visualize loss function"
   ]
  },
  {
   "cell_type": "code",
   "execution_count": 8,
   "metadata": {
    "slideshow": {
     "slide_type": "skip"
    }
   },
   "outputs": [],
   "source": [
    "def plot_logistic_loss_function(x_arr, epsilon=1e-06):\n",
    "    y0 = -np.log(1-x_arr + epsilon)\n",
    "    y1 = -np.log(x_arr + epsilon)\n",
    "    fig = plt.figure()\n",
    "    ax = plt.axes()\n",
    "    ax.plot(x_arr, y0, label=\"$-log(h(x))$ if y = 0\")\n",
    "    ax.plot(x_arr, y1, label=\"$-log(1 - h(x))$ if y = 1\")\n",
    "    ax.legend()\n",
    "    ax.set_title(\"Logistic Regression Loss Function\")\n",
    "    ax.set_xlabel(\"$h(x)$\")\n",
    "    ax.set_ylabel(\"Loss\")\n",
    "    plt.show()\n",
    "    \n",
    "x = np.linspace(0, 1, 100)"
   ]
  },
  {
   "cell_type": "code",
   "execution_count": 9,
   "metadata": {},
   "outputs": [
    {
     "data": {
      "image/png": "[encoded data removed]",
      "text/plain": [
       "<Figure size 432x288 with 1 Axes>"
      ]
     },
     "metadata": {
      "needs_background": "light"
     },
     "output_type": "display_data"
    }
   ],
   "source": [
    "plot_logistic_loss_function(x)"
   ]
  },
  {
   "cell_type": "markdown",
   "metadata": {
    "slideshow": {
     "slide_type": "subslide"
    }
   },
   "source": [
    "## Machine learning engineer uses surface plot to visualize gradients\n",
    "\n",
    "![Imgur](https://i.imgur.com/qMsNwXx.png)\n",
    "\n",
    "Source: [Coursera | Machine Learning](https://www.coursera.org/learn/machine-learning)"
   ]
  },
  {
   "cell_type": "markdown",
   "metadata": {
    "slideshow": {
     "slide_type": "subslide"
    }
   },
   "source": [
    "## Machine learning engineer also uses contour plot to visualize gradients\n",
    "\n",
    "![Imgur](https://i.imgur.com/qmeRAdf.png)\n",
    "\n",
    "Source: [Coursera | Machine Learning](https://www.coursera.org/learn/machine-learning)"
   ]
  },
  {
   "cell_type": "markdown",
   "metadata": {
    "slideshow": {
     "slide_type": "subslide"
    }
   },
   "source": [
    "## Machine learning engineer uses scatter plot and contour plot to visualize decision boundary\n",
    "\n",
    "Source: <https://scikit-learn.org/stable/auto_examples/ensemble/plot_voting_decision_regions.html#sphx-glr-auto-examples-ensemble-plot-voting-decision-regions-py>"
   ]
  },
  {
   "cell_type": "code",
   "execution_count": 10,
   "metadata": {
    "slideshow": {
     "slide_type": "skip"
    }
   },
   "outputs": [],
   "source": [
    "from itertools import product\n",
    "from sklearn import datasets\n",
    "from sklearn.tree import DecisionTreeClassifier\n",
    "from sklearn.neighbors import KNeighborsClassifier\n",
    "from sklearn.svm import SVC\n",
    "from sklearn.ensemble import VotingClassifier\n",
    "\n",
    "def plot_multiple_decision_boundary():\n",
    "    # Loading some example data\n",
    "    iris = datasets.load_iris()\n",
    "    X = iris.data[:, [0, 2]]\n",
    "    y = iris.target\n",
    "\n",
    "    # Training classifiers\n",
    "    clf1 = DecisionTreeClassifier(max_depth=4)\n",
    "    clf2 = KNeighborsClassifier(n_neighbors=7)\n",
    "    clf3 = SVC(gamma=.1, kernel='rbf', probability=True)\n",
    "    eclf = VotingClassifier(estimators=[('dt', clf1), ('knn', clf2),\n",
    "                                        ('svc', clf3)],\n",
    "                            voting='soft', weights=[2, 1, 2])\n",
    "\n",
    "    clf1.fit(X, y)\n",
    "    clf2.fit(X, y)\n",
    "    clf3.fit(X, y)\n",
    "    eclf.fit(X, y)\n",
    "\n",
    "    # Plotting decision regions\n",
    "    x_min, x_max = X[:, 0].min() - 1, X[:, 0].max() + 1\n",
    "    y_min, y_max = X[:, 1].min() - 1, X[:, 1].max() + 1\n",
    "    xx, yy = np.meshgrid(np.arange(x_min, x_max, 0.1),\n",
    "                         np.arange(y_min, y_max, 0.1))\n",
    "\n",
    "    f, axarr = plt.subplots(2, 2, sharex='col', sharey='row', figsize=(10, 8))\n",
    "\n",
    "    for idx, clf, tt in zip(product([0, 1], [0, 1]),\n",
    "                            [clf1, clf2, clf3, eclf],\n",
    "                            ['Decision Tree (depth=4)', 'KNN (k=7)',\n",
    "                             'Kernel SVM', 'Soft Voting']):\n",
    "\n",
    "        Z = clf.predict(np.c_[xx.ravel(), yy.ravel()])\n",
    "        Z = Z.reshape(xx.shape)\n",
    "\n",
    "        axarr[idx[0], idx[1]].contourf(xx, yy, Z, alpha=0.4)\n",
    "        axarr[idx[0], idx[1]].scatter(X[:, 0], X[:, 1], c=y,\n",
    "                                      s=20, edgecolor='k')\n",
    "        axarr[idx[0], idx[1]].set_title(tt)\n",
    "\n",
    "    plt.show()"
   ]
  },
  {
   "cell_type": "code",
   "execution_count": 11,
   "metadata": {
    "slideshow": {
     "slide_type": "subslide"
    }
   },
   "outputs": [
    {
     "data": {
      "image/png": "[encoded data removed]",
      "text/plain": [
       "<Figure size 720x576 with 4 Axes>"
      ]
     },
     "metadata": {
      "needs_background": "light"
     },
     "output_type": "display_data"
    }
   ],
   "source": [
    "plot_multiple_decision_boundary()"
   ]
  },
  {
   "cell_type": "markdown",
   "metadata": {
    "slideshow": {
     "slide_type": "subslide"
    }
   },
   "source": [
    "## It is also best practice to visualize decision boundary for deep learning models\n",
    "\n",
    "![Imgur](https://i.imgur.com/y0usaIA.png?1)\n",
    "\n",
    "Source: <https://playground.tensorflow.org/>"
   ]
  },
  {
   "cell_type": "markdown",
   "metadata": {
    "slideshow": {
     "slide_type": "subslide"
    }
   },
   "source": [
    "## The 2 most influential visualizations of ALL TIME\n",
    "\n",
    "1. [Minard's map of Napoleon's disastrous Russian campaign of 1812](https://en.wikipedia.org/wiki/Flow_map#/media/File:Minard.png)\n",
    "2. [Hans Rosling's 200 Countries, 200 Years, 4 Minutes](https://youtu.be/jbkSRLYSojo)"
   ]
  },
  {
   "cell_type": "markdown",
   "metadata": {
    "slideshow": {
     "slide_type": "subslide"
    }
   },
   "source": [
    "## [Minard's map of Napoleon's disastrous Russian campaign of 1812](https://en.wikipedia.org/wiki/Flow_map#/media/File:Minard.png)\n",
    "\n",
    "In 1812, Napoleon marched to Moscow. 98% of his soldiers died. The simple but fascinating temperature line below the viz shows how cold ultimately defeated Napoleon’s army.\n",
    "\n",
    "![Imgur](https://i.imgur.com/DcuAxgz.png?1)"
   ]
  },
  {
   "cell_type": "markdown",
   "metadata": {
    "slideshow": {
     "slide_type": "subslide"
    }
   },
   "source": [
    "## [Hans Rosling's 200 Countries, 200 Years, 4 Minutes](https://youtu.be/jbkSRLYSojo)\n",
    "\n",
    "A 2007 TED talk for the Swedish scientist shared his passion with the world. It shows the relationship between wealth and health.\n",
    "\n",
    "![Imgur](https://i.imgur.com/IiDf3I8.png?1)"
   ]
  },
  {
   "cell_type": "markdown",
   "metadata": {
    "slideshow": {
     "slide_type": "subslide"
    }
   },
   "source": [
    ">The simple graph has brought more information to the data analyst’s mind than any other device.\n",
    ">\n",
    ">[John Tukey](https://en.wikipedia.org/wiki/John_Tukey)"
   ]
  },
  {
   "cell_type": "markdown",
   "metadata": {
    "slideshow": {
     "slide_type": "subslide"
    }
   },
   "source": [
    "## [John Tukey](https://en.wikipedia.org/wiki/John_Tukey) is an American mathematician best known for development of box plot."
   ]
  },
  {
   "cell_type": "code",
   "execution_count": 12,
   "metadata": {
    "slideshow": {
     "slide_type": "skip"
    }
   },
   "outputs": [],
   "source": [
    "gapminder = pd.read_csv(\"https://python4ds.s3-ap-northeast-1.amazonaws.com/gapminder.csv\")\n",
    "\n",
    "def plot_box_plot(df):\n",
    "    continents = df[\"continent\"].unique()\n",
    "    list_of_arr = [df[df[\"continent\"] == cont][\"gdpPercap\"].values for cont in continents]\n",
    "    fig = plt.figure()\n",
    "    ax = plt.axes()\n",
    "    ax.boxplot(list_of_arr)\n",
    "    ax.set_ylim(0, 60000)\n",
    "    ax.set_xticklabels(continents)\n",
    "    ax.set_title(\"A Box Plot of Gapminder's GDP Per Capita\")\n",
    "    ax.set_ylabel(\"GDP Per Capita\")\n",
    "    plt.show()"
   ]
  },
  {
   "cell_type": "code",
   "execution_count": 13,
   "metadata": {},
   "outputs": [
    {
     "data": {
      "image/png": "[encoded data removed]",
      "text/plain": [
       "<Figure size 432x288 with 1 Axes>"
      ]
     },
     "metadata": {
      "needs_background": "light"
     },
     "output_type": "display_data"
    }
   ],
   "source": [
    "plot_box_plot(gapminder)"
   ]
  },
  {
   "cell_type": "markdown",
   "metadata": {
    "slideshow": {
     "slide_type": "slide"
    }
   },
   "source": [
    "## What is modern data science"
   ]
  },
  {
   "cell_type": "markdown",
   "metadata": {
    "slideshow": {
     "slide_type": "subslide"
    }
   },
   "source": [
    "> Modern data science is a huge field, it invovles applications and tools like importing, tidying, transformation, visualization, modeling, and communication. Surrounding all these is programming.\n",
    "\n",
    "![Imgur](https://i.imgur.com/din6Ig6.png)\n",
    "\n",
    "Source: [R for Data Science](https://r4ds.had.co.nz/)"
   ]
  },
  {
   "cell_type": "markdown",
   "metadata": {
    "slideshow": {
     "slide_type": "subslide"
    }
   },
   "source": [
    "![Imgur](https://i.imgur.com/vbczHMF.jpg)\n",
    "\n",
    "Source: <https://twitter.com/cdixon/status/428914681911070720/photo/1>"
   ]
  },
  {
   "cell_type": "markdown",
   "metadata": {
    "slideshow": {
     "slide_type": "subslide"
    }
   },
   "source": [
    "![Imgur](https://i.imgur.com/6u4tw97.png)\n",
    "\n",
    "Source: <http://drewconway.com/>"
   ]
  },
  {
   "cell_type": "markdown",
   "metadata": {
    "slideshow": {
     "slide_type": "subslide"
    }
   },
   "source": [
    "## Meet my favorite data scientist on TV show: Chandler Bing\n",
    "\n",
    "![](https://media.giphy.com/media/fA81FF4mdE6lgeoJwb/giphy.gif)\n",
    "\n",
    "Source: <https://gph.is/g/4DA0wGO>"
   ]
  },
  {
   "cell_type": "markdown",
   "metadata": {
    "slideshow": {
     "slide_type": "subslide"
    }
   },
   "source": [
    "![Imgur](https://i.imgur.com/QhZ2FDY.png?2)\n",
    "\n",
    "Source: <https://www.warnerbros.com/tv/friends/>"
   ]
  },
  {
   "cell_type": "markdown",
   "metadata": {
    "slideshow": {
     "slide_type": "subslide"
    }
   },
   "source": [
    "![Imgur](https://i.imgur.com/iZwdP9t.png?5)\n",
    "\n",
    "Source: <https://www.warnerbros.com/tv/friends/>"
   ]
  },
  {
   "cell_type": "markdown",
   "metadata": {
    "slideshow": {
     "slide_type": "subslide"
    }
   },
   "source": [
    "## In fact, Python(or R, Julia, Matlab ...etc.) is capable to tackle everything\n",
    "\n",
    "![Imgur](https://i.imgur.com/din6Ig6.png)\n",
    "\n",
    "Source: [R for Data Science](https://r4ds.had.co.nz/)"
   ]
  },
  {
   "cell_type": "markdown",
   "metadata": {
    "slideshow": {
     "slide_type": "subslide"
    }
   },
   "source": [
    "## So it is inevitable to write codes in modern data science"
   ]
  },
  {
   "cell_type": "markdown",
   "metadata": {
    "slideshow": {
     "slide_type": "subslide"
    }
   },
   "source": [
    "## What does it take to write a program\n",
    "\n",
    "![](https://upload.wikimedia.org/wikipedia/commons/5/51/Archimedes_lever_%28Small%29.jpg)\n",
    "\n",
    "Source: <https://en.wikipedia.org/wiki/File:Archimedes_lever_(Small).jpg>"
   ]
  },
  {
   "cell_type": "markdown",
   "metadata": {
    "slideshow": {
     "slide_type": "subslide"
    }
   },
   "source": [
    "## Text editors and interpreter/compiler are your points of support!"
   ]
  },
  {
   "cell_type": "markdown",
   "metadata": {
    "slideshow": {
     "slide_type": "subslide"
    }
   },
   "source": [
    "## Let's explore 3 questions in [2019 Kaggle ML & DS Survey](https://www.kaggle.com/c/kaggle-survey-2019)\n",
    "\n",
    "- Q14: What is the primary tool that you use at work or school to analyze data?\n",
    "- Q18: What programming languages do you use on a regular basis?\n",
    "- Q19: What programming language would you recommend an aspiring data scientist to learn first?"
   ]
  },
  {
   "cell_type": "markdown",
   "metadata": {
    "slideshow": {
     "slide_type": "subslide"
    }
   },
   "source": [
    "## What is [Kaggle](https://kaggle.com/)\n",
    "\n",
    "> A subsidiary of Google, is an online community of data scientists and machine learning practitioners. Kaggle allows users to find and publish data sets, explore and build models in a web-based data-science environment, work with other data scientists and machine learning engineers, and enter competitions to solve data science challenges.\n",
    "\n",
    "Source: <https://en.wikipedia.org/wiki/Kaggle>"
   ]
  },
  {
   "cell_type": "code",
   "execution_count": 14,
   "metadata": {
    "slideshow": {
     "slide_type": "skip"
    }
   },
   "outputs": [],
   "source": [
    "def get_value_ratios(df, col_name):\n",
    "    return df[col_name].value_counts() / df[col_name].value_counts().sum()\n",
    "    \n",
    "def get_checkbox_ratios(df, col_pattern):\n",
    "    channel_names = []\n",
    "    channel_checks = []\n",
    "    for col_name in df.columns:\n",
    "        if (col_pattern in col_name) and ('OTHER_TEXT' not in col_name):\n",
    "            channel_name = df[col_name].value_counts().index\n",
    "            channel_check = df[col_name].value_counts().values\n",
    "            if channel_name.size != 0:\n",
    "                channel_names.append(channel_name[0])\n",
    "                channel_checks.append(channel_check[0])\n",
    "    channel_counts = pd.Series(channel_checks, index=channel_names)\n",
    "    channel_ratios = channel_counts / channel_counts.sum()\n",
    "    channel_ratios_sorted = channel_ratios.sort_values(ascending=False)\n",
    "    return channel_ratios_sorted\n",
    "\n",
    "survey_2019 = pd.read_csv(\"https://kaggle-ml-ds-survey.s3-ap-northeast-1.amazonaws.com/kaggle-survey-2019/multiple_choice_responses.csv\", encoding='ISO-8859-1', skiprows=[1], low_memory=False)\n",
    "da_2019 = survey_2019[survey_2019['Q5'] == 'Data Analyst']"
   ]
  },
  {
   "cell_type": "code",
   "execution_count": 15,
   "metadata": {
    "slideshow": {
     "slide_type": "skip"
    }
   },
   "outputs": [],
   "source": [
    "def plot_ans_14(ans_14_ser):\n",
    "    fig = plt.figure()\n",
    "    ax = plt.axes()\n",
    "    ans_14_ser = ans_14_ser[::-1]\n",
    "    ax.barh(ans_14_ser.index, ans_14_ser.values, color=['c', 'c', 'c', 'c', 'c', 'r'])\n",
    "    ax.set_title(\"What is the primary tool that you use at work or school to analyze data?\")\n",
    "    ax.set_xticks([0, 0.1, 0.2, 0.3, 0.4, 0.5])\n",
    "    ax.set_xticklabels(['0%', '10%', '20%', '30%', '40%', '50%'])\n",
    "    ax.spines['top'].set_visible(False)\n",
    "    ax.spines['right'].set_visible(False)\n",
    "    ax.spines['bottom'].set_visible(False)\n",
    "    plt.show()\n",
    "\n",
    "def get_ax(ans_ser, plot_title, ax):\n",
    "    ax = ax\n",
    "    ans_ser = ans_ser[:10][::-1]\n",
    "    ax.barh(ans_ser.index, ans_ser.values, color=['c', 'c', 'c', 'c', 'c', 'c', 'c', 'r', 'r', 'r'])\n",
    "    ax.spines['top'].set_visible(False)\n",
    "    ax.spines['right'].set_visible(False)\n",
    "    ax.spines['bottom'].set_visible(False)\n",
    "    ax.set_title(plot_title)\n",
    "    \n",
    "def plot_ans_18_19(ans_18_ser, ans_19_ser):\n",
    "    fig, (ax1, ax2) = plt.subplots(1, 2, figsize=(14, 4))\n",
    "    get_ax(ans_18_ser, \"What programming languages do you use on a regular basis?\", ax1)\n",
    "    get_ax(ans_19_ser, \"What programming language would you recommend \\n an aspiring data scientist to learn first?\", ax2)\n",
    "    plt.tight_layout()\n",
    "    plt.show()\n",
    "\n",
    "ans_14 = get_value_ratios(da_2019, 'Q14')\n",
    "ans_18 = get_checkbox_ratios(da_2019, 'Q18')\n",
    "ans_19 = get_value_ratios(da_2019, 'Q19')"
   ]
  },
  {
   "cell_type": "code",
   "execution_count": 16,
   "metadata": {
    "slideshow": {
     "slide_type": "subslide"
    }
   },
   "outputs": [
    {
     "data": {
      "image/png": "[encoded data removed]",
      "text/plain": [
       "<Figure size 432x288 with 1 Axes>"
      ]
     },
     "metadata": {
      "needs_background": "light"
     },
     "output_type": "display_data"
    }
   ],
   "source": [
    "# What is the primary tool that you use at work or school to analyze data?\n",
    "plot_ans_14(ans_14)"
   ]
  },
  {
   "cell_type": "code",
   "execution_count": 17,
   "metadata": {
    "scrolled": true,
    "slideshow": {
     "slide_type": "subslide"
    }
   },
   "outputs": [
    {
     "data": {
      "image/png": "[encoded data removed]",
      "text/plain": [
       "<Figure size 1008x288 with 2 Axes>"
      ]
     },
     "metadata": {
      "needs_background": "light"
     },
     "output_type": "display_data"
    }
   ],
   "source": [
    "# What programming languages do you use on a regular basis?\n",
    "# What programming language would you recommend an aspiring data scientist to learn first?\n",
    "plot_ans_18_19(ans_18, ans_19)"
   ]
  },
  {
   "cell_type": "markdown",
   "metadata": {
    "slideshow": {
     "slide_type": "subslide"
    }
   },
   "source": [
    "## Now you've got what data analysis, visualization, and modern data science are"
   ]
  },
  {
   "cell_type": "markdown",
   "metadata": {
    "slideshow": {
     "slide_type": "subslide"
    }
   },
   "source": [
    "## We can answer our questions using a bit of technical assists\n",
    "\n",
    "- How to define 「章魚里」?\n",
    "- Can we find out 「章魚里」 based on 2020 presidential data?\n",
    "- Can we find the similarity of our own village?"
   ]
  },
  {
   "cell_type": "markdown",
   "metadata": {
    "slideshow": {
     "slide_type": "subslide"
    }
   },
   "source": [
    "## How to define 「章魚里」\n",
    "\n",
    "Basically, after a few literature search, you may find the definition of 「章魚里」 is quite ambigious. So we are using a much fancier metric: **cosine similarity**."
   ]
  },
  {
   "cell_type": "markdown",
   "metadata": {
    "slideshow": {
     "slide_type": "subslide"
    }
   },
   "source": [
    "## What is cosine similarity\n",
    "\n",
    "> Cosine similarity is a measure of similarity between two non-zero vectors of an inner product space. It is defined to equal the cosine of the angle between them, which is also the same as the inner product of the same vectors normalized to both have length 1.\n",
    "\n",
    "\\begin{equation}\n",
    "a = (a_1, a_2, a_3) \\\\\n",
    "b = (b_1, b_2, b_3)\n",
    "\\end{equation}\n",
    "\n",
    "\\begin{align}\n",
    "cos\\theta &= \\frac{\\sum_i(a_i \\times b_i)}{\\sqrt{\\sum_i a_i^2} \\times \\sqrt{\\sum_i b_i^2}} \\\\\n",
    "&= \\frac{a \\cdot b}{\\parallel a \\parallel \\times \\parallel b \\parallel}\n",
    "\\end{align}\n",
    "\n",
    "Source: [Cosine similarity](https://en.wikipedia.org/wiki/Cosine_similarity)"
   ]
  },
  {
   "cell_type": "markdown",
   "metadata": {
    "slideshow": {
     "slide_type": "subslide"
    }
   },
   "source": [
    "## Can we find out 「章魚里」 based on 2020 presidential data\n",
    "\n",
    "Definitely, we all have access to [Central Election Commission](https://db.cec.gov.tw/)."
   ]
  },
  {
   "cell_type": "markdown",
   "metadata": {
    "slideshow": {
     "slide_type": "subslide"
    }
   },
   "source": [
    "## Now we have to write code to integrate these spreadsheets."
   ]
  },
  {
   "cell_type": "code",
   "execution_count": 18,
   "metadata": {},
   "outputs": [
    {
     "name": "stdout",
     "output_type": "stream",
     "text": [
      "Tidying 總統-A05-4-候選人得票數一覽表-各投開票所(宜蘭縣).xls\n",
      "Tidying 總統-A05-4-候選人得票數一覽表-各投開票所(彰化縣).xls\n",
      "Tidying 總統-A05-4-候選人得票數一覽表-各投開票所(金門縣).xls\n",
      "Tidying 總統-A05-4-候選人得票數一覽表-各投開票所(桃園市).xls\n",
      "Tidying 總統-A05-4-候選人得票數一覽表-各投開票所(苗栗縣).xls\n",
      "Tidying 總統-A05-4-候選人得票數一覽表-各投開票所(臺南市).xls\n",
      "Tidying 總統-A05-4-候選人得票數一覽表-各投開票所(雲林縣).xls\n",
      "Tidying 總統-A05-4-候選人得票數一覽表-各投開票所(南投縣).xls\n",
      "Tidying 總統-A05-4-候選人得票數一覽表-各投開票所(高雄市).xls\n",
      "Tidying 總統-A05-4-候選人得票數一覽表-各投開票所(臺北市).xls\n",
      "Tidying 總統-A05-4-候選人得票數一覽表-各投開票所(新北市).xls\n",
      "Tidying 總統-A05-4-候選人得票數一覽表-各投開票所(花蓮縣).xls\n",
      "Tidying 總統-A05-4-候選人得票數一覽表-各投開票所(新竹市).xls\n",
      "Tidying 總統-A05-4-候選人得票數一覽表-各投開票所(新竹縣).xls\n",
      "Tidying 總統-A05-4-候選人得票數一覽表-各投開票所(基隆市).xls\n",
      "Tidying 總統-A05-4-候選人得票數一覽表-各投開票所(連江縣).xls\n",
      "Tidying 總統-A05-4-候選人得票數一覽表-各投開票所(嘉義縣).xls\n",
      "Tidying 總統-A05-4-候選人得票數一覽表-各投開票所(嘉義市).xls\n",
      "Tidying 總統-A05-4-候選人得票數一覽表-各投開票所(屏東縣).xls\n",
      "Tidying 總統-A05-4-候選人得票數一覽表-各投開票所(澎湖縣).xls\n",
      "Tidying 總統-A05-4-候選人得票數一覽表-各投開票所(臺東縣).xls\n",
      "Tidying 總統-A05-4-候選人得票數一覽表-各投開票所(臺中市).xls\n"
     ]
    }
   ],
   "source": [
    "from presidential import Presidential\n",
    "\n",
    "presidential = Presidential('presidential-2020')\n",
    "presidential_df = presidential.adjust_presidential_df()"
   ]
  },
  {
   "cell_type": "code",
   "execution_count": 19,
   "metadata": {
    "slideshow": {
     "slide_type": "subslide"
    }
   },
   "outputs": [
    {
     "data": {
      "text/html": [
       "<div>\n",
       "<style scoped>\n",
       "    .dataframe tbody tr th:only-of-type {\n",
       "        vertical-align: middle;\n",
       "    }\n",
       "\n",
       "    .dataframe tbody tr th {\n",
       "        vertical-align: top;\n",
       "    }\n",
       "\n",
       "    .dataframe thead th {\n",
       "        text-align: right;\n",
       "    }\n",
       "</style>\n",
       "<table border=\"1\" class=\"dataframe\">\n",
       "  <thead>\n",
       "    <tr style=\"text-align: right;\">\n",
       "      <th></th>\n",
       "      <th>county</th>\n",
       "      <th>town</th>\n",
       "      <th>village</th>\n",
       "      <th>office</th>\n",
       "      <th>number</th>\n",
       "      <th>candidate</th>\n",
       "      <th>votes</th>\n",
       "    </tr>\n",
       "  </thead>\n",
       "  <tbody>\n",
       "    <tr>\n",
       "      <th>0</th>\n",
       "      <td>宜蘭縣</td>\n",
       "      <td>宜蘭市</td>\n",
       "      <td>民族里</td>\n",
       "      <td>1</td>\n",
       "      <td>1</td>\n",
       "      <td>宋楚瑜/余湘</td>\n",
       "      <td>37</td>\n",
       "    </tr>\n",
       "    <tr>\n",
       "      <th>1</th>\n",
       "      <td>宜蘭縣</td>\n",
       "      <td>宜蘭市</td>\n",
       "      <td>民族里</td>\n",
       "      <td>2</td>\n",
       "      <td>1</td>\n",
       "      <td>宋楚瑜/余湘</td>\n",
       "      <td>31</td>\n",
       "    </tr>\n",
       "    <tr>\n",
       "      <th>2</th>\n",
       "      <td>宜蘭縣</td>\n",
       "      <td>宜蘭市</td>\n",
       "      <td>建軍里</td>\n",
       "      <td>3</td>\n",
       "      <td>1</td>\n",
       "      <td>宋楚瑜/余湘</td>\n",
       "      <td>19</td>\n",
       "    </tr>\n",
       "    <tr>\n",
       "      <th>3</th>\n",
       "      <td>宜蘭縣</td>\n",
       "      <td>宜蘭市</td>\n",
       "      <td>建軍里</td>\n",
       "      <td>4</td>\n",
       "      <td>1</td>\n",
       "      <td>宋楚瑜/余湘</td>\n",
       "      <td>29</td>\n",
       "    </tr>\n",
       "    <tr>\n",
       "      <th>4</th>\n",
       "      <td>宜蘭縣</td>\n",
       "      <td>宜蘭市</td>\n",
       "      <td>泰山里</td>\n",
       "      <td>5</td>\n",
       "      <td>1</td>\n",
       "      <td>宋楚瑜/余湘</td>\n",
       "      <td>25</td>\n",
       "    </tr>\n",
       "  </tbody>\n",
       "</table>\n",
       "</div>"
      ],
      "text/plain": [
       "  county town village  office number candidate  votes\n",
       "0    宜蘭縣  宜蘭市     民族里       1      1    宋楚瑜/余湘     37\n",
       "1    宜蘭縣  宜蘭市     民族里       2      1    宋楚瑜/余湘     31\n",
       "2    宜蘭縣  宜蘭市     建軍里       3      1    宋楚瑜/余湘     19\n",
       "3    宜蘭縣  宜蘭市     建軍里       4      1    宋楚瑜/余湘     29\n",
       "4    宜蘭縣  宜蘭市     泰山里       5      1    宋楚瑜/余湘     25"
      ]
     },
     "execution_count": 19,
     "metadata": {},
     "output_type": "execute_result"
    }
   ],
   "source": [
    "presidential_df.head()"
   ]
  },
  {
   "cell_type": "code",
   "execution_count": 20,
   "metadata": {
    "slideshow": {
     "slide_type": "subslide"
    }
   },
   "outputs": [
    {
     "data": {
      "text/html": [
       "<div>\n",
       "<style scoped>\n",
       "    .dataframe tbody tr th:only-of-type {\n",
       "        vertical-align: middle;\n",
       "    }\n",
       "\n",
       "    .dataframe tbody tr th {\n",
       "        vertical-align: top;\n",
       "    }\n",
       "\n",
       "    .dataframe thead th {\n",
       "        text-align: right;\n",
       "    }\n",
       "</style>\n",
       "<table border=\"1\" class=\"dataframe\">\n",
       "  <thead>\n",
       "    <tr style=\"text-align: right;\">\n",
       "      <th></th>\n",
       "      <th>county</th>\n",
       "      <th>town</th>\n",
       "      <th>village</th>\n",
       "      <th>office</th>\n",
       "      <th>number</th>\n",
       "      <th>candidate</th>\n",
       "      <th>votes</th>\n",
       "    </tr>\n",
       "  </thead>\n",
       "  <tbody>\n",
       "    <tr>\n",
       "      <th>51673</th>\n",
       "      <td>臺中市</td>\n",
       "      <td>和平區</td>\n",
       "      <td>梨山里</td>\n",
       "      <td>1845</td>\n",
       "      <td>3</td>\n",
       "      <td>蔡英文/賴清德</td>\n",
       "      <td>132</td>\n",
       "    </tr>\n",
       "    <tr>\n",
       "      <th>51674</th>\n",
       "      <td>臺中市</td>\n",
       "      <td>和平區</td>\n",
       "      <td>梨山里</td>\n",
       "      <td>1846</td>\n",
       "      <td>3</td>\n",
       "      <td>蔡英文/賴清德</td>\n",
       "      <td>107</td>\n",
       "    </tr>\n",
       "    <tr>\n",
       "      <th>51675</th>\n",
       "      <td>臺中市</td>\n",
       "      <td>和平區</td>\n",
       "      <td>梨山里</td>\n",
       "      <td>1847</td>\n",
       "      <td>3</td>\n",
       "      <td>蔡英文/賴清德</td>\n",
       "      <td>40</td>\n",
       "    </tr>\n",
       "    <tr>\n",
       "      <th>51676</th>\n",
       "      <td>臺中市</td>\n",
       "      <td>和平區</td>\n",
       "      <td>平等里</td>\n",
       "      <td>1848</td>\n",
       "      <td>3</td>\n",
       "      <td>蔡英文/賴清德</td>\n",
       "      <td>24</td>\n",
       "    </tr>\n",
       "    <tr>\n",
       "      <th>51677</th>\n",
       "      <td>臺中市</td>\n",
       "      <td>和平區</td>\n",
       "      <td>平等里</td>\n",
       "      <td>1849</td>\n",
       "      <td>3</td>\n",
       "      <td>蔡英文/賴清德</td>\n",
       "      <td>102</td>\n",
       "    </tr>\n",
       "  </tbody>\n",
       "</table>\n",
       "</div>"
      ],
      "text/plain": [
       "      county town village  office number candidate  votes\n",
       "51673    臺中市  和平區     梨山里    1845      3   蔡英文/賴清德    132\n",
       "51674    臺中市  和平區     梨山里    1846      3   蔡英文/賴清德    107\n",
       "51675    臺中市  和平區     梨山里    1847      3   蔡英文/賴清德     40\n",
       "51676    臺中市  和平區     平等里    1848      3   蔡英文/賴清德     24\n",
       "51677    臺中市  和平區     平等里    1849      3   蔡英文/賴清德    102"
      ]
     },
     "execution_count": 20,
     "metadata": {},
     "output_type": "execute_result"
    }
   ],
   "source": [
    "presidential_df.tail()"
   ]
  },
  {
   "cell_type": "markdown",
   "metadata": {
    "slideshow": {
     "slide_type": "subslide"
    }
   },
   "source": [
    "## Check if the summations are right"
   ]
  },
  {
   "cell_type": "code",
   "execution_count": 21,
   "metadata": {
    "slideshow": {
     "slide_type": "-"
    }
   },
   "outputs": [
    {
     "data": {
      "text/plain": [
       "number\n",
       "1     608590\n",
       "2    5522119\n",
       "3    8170231\n",
       "Name: votes, dtype: int64"
      ]
     },
     "execution_count": 21,
     "metadata": {},
     "output_type": "execute_result"
    }
   ],
   "source": [
    "ttl_votes = presidential_df['votes'].sum()\n",
    "ttl_votes_by_candidates = presidential_df.groupby('number')['votes'].sum()\n",
    "ttl_votes_by_candidates"
   ]
  },
  {
   "cell_type": "markdown",
   "metadata": {
    "slideshow": {
     "slide_type": "subslide"
    }
   },
   "source": [
    "## National percentage is our target vector to be compared"
   ]
  },
  {
   "cell_type": "code",
   "execution_count": 22,
   "metadata": {
    "slideshow": {
     "slide_type": "subslide"
    }
   },
   "outputs": [
    {
     "data": {
      "text/plain": [
       "number\n",
       "1    0.042556\n",
       "2    0.386137\n",
       "3    0.571307\n",
       "Name: votes, dtype: float64"
      ]
     },
     "execution_count": 22,
     "metadata": {},
     "output_type": "execute_result"
    }
   ],
   "source": [
    "national_percentage = ttl_votes_by_candidates / ttl_votes\n",
    "national_percentage"
   ]
  },
  {
   "cell_type": "markdown",
   "metadata": {
    "slideshow": {
     "slide_type": "subslide"
    }
   },
   "source": [
    "## Total votes for each village"
   ]
  },
  {
   "cell_type": "code",
   "execution_count": 23,
   "metadata": {
    "slideshow": {
     "slide_type": "-"
    }
   },
   "outputs": [
    {
     "data": {
      "text/plain": [
       "combined_key\n",
       "南投縣中寮鄉中寮村      443\n",
       "南投縣中寮鄉內城村      297\n",
       "南投縣中寮鄉八仙村      535\n",
       "南投縣中寮鄉和興村      422\n",
       "南投縣中寮鄉崁頂村      304\n",
       "             ...  \n",
       "高雄市鼓山區鼓岩里      847\n",
       "高雄市鼓山區鼓峰里     1425\n",
       "高雄市鼓山區龍井里      906\n",
       "高雄市鼓山區龍子里    11410\n",
       "高雄市鼓山區龍水里    16333\n",
       "Name: votes, Length: 7737, dtype: int64"
      ]
     },
     "execution_count": 23,
     "metadata": {},
     "output_type": "execute_result"
    }
   ],
   "source": [
    "combined_key = presidential_df['county'].str.cat(presidential_df['town']).str.cat(presidential_df['village'])\n",
    "presidential_df = presidential_df.assign(combined_key=combined_key)\n",
    "ttl_votes_by_combined_key = presidential_df.groupby(['combined_key'])['votes'].sum()\n",
    "ttl_votes_by_combined_key"
   ]
  },
  {
   "cell_type": "markdown",
   "metadata": {
    "slideshow": {
     "slide_type": "subslide"
    }
   },
   "source": [
    "## Votes percentage by each candidate and village"
   ]
  },
  {
   "cell_type": "code",
   "execution_count": 24,
   "metadata": {
    "slideshow": {
     "slide_type": "-"
    }
   },
   "outputs": [],
   "source": [
    "ttl_votes_by_combined_key_candidates = presidential_df.groupby(['combined_key', 'number'])['votes'].sum()\n",
    "soong = ttl_votes_by_combined_key_candidates[:, '1'] / ttl_votes_by_combined_key\n",
    "han = ttl_votes_by_combined_key_candidates[:, '2'] / ttl_votes_by_combined_key\n",
    "tsai = ttl_votes_by_combined_key_candidates[:, '3'] / ttl_votes_by_combined_key\n",
    "votes_obtained = pd.concat([soong, han, tsai], axis=1)\n",
    "votes_obtained.columns = ['soong', 'han', 'tsai']"
   ]
  },
  {
   "cell_type": "code",
   "execution_count": 25,
   "metadata": {
    "slideshow": {
     "slide_type": "subslide"
    }
   },
   "outputs": [
    {
     "data": {
      "text/html": [
       "<div>\n",
       "<style scoped>\n",
       "    .dataframe tbody tr th:only-of-type {\n",
       "        vertical-align: middle;\n",
       "    }\n",
       "\n",
       "    .dataframe tbody tr th {\n",
       "        vertical-align: top;\n",
       "    }\n",
       "\n",
       "    .dataframe thead th {\n",
       "        text-align: right;\n",
       "    }\n",
       "</style>\n",
       "<table border=\"1\" class=\"dataframe\">\n",
       "  <thead>\n",
       "    <tr style=\"text-align: right;\">\n",
       "      <th></th>\n",
       "      <th>soong</th>\n",
       "      <th>han</th>\n",
       "      <th>tsai</th>\n",
       "    </tr>\n",
       "    <tr>\n",
       "      <th>combined_key</th>\n",
       "      <th></th>\n",
       "      <th></th>\n",
       "      <th></th>\n",
       "    </tr>\n",
       "  </thead>\n",
       "  <tbody>\n",
       "    <tr>\n",
       "      <th>南投縣中寮鄉中寮村</th>\n",
       "      <td>0.040632</td>\n",
       "      <td>0.489842</td>\n",
       "      <td>0.469526</td>\n",
       "    </tr>\n",
       "    <tr>\n",
       "      <th>南投縣中寮鄉內城村</th>\n",
       "      <td>0.057239</td>\n",
       "      <td>0.474747</td>\n",
       "      <td>0.468013</td>\n",
       "    </tr>\n",
       "    <tr>\n",
       "      <th>南投縣中寮鄉八仙村</th>\n",
       "      <td>0.039252</td>\n",
       "      <td>0.435514</td>\n",
       "      <td>0.525234</td>\n",
       "    </tr>\n",
       "    <tr>\n",
       "      <th>南投縣中寮鄉和興村</th>\n",
       "      <td>0.021327</td>\n",
       "      <td>0.500000</td>\n",
       "      <td>0.478673</td>\n",
       "    </tr>\n",
       "    <tr>\n",
       "      <th>南投縣中寮鄉崁頂村</th>\n",
       "      <td>0.052632</td>\n",
       "      <td>0.381579</td>\n",
       "      <td>0.565789</td>\n",
       "    </tr>\n",
       "    <tr>\n",
       "      <th>...</th>\n",
       "      <td>...</td>\n",
       "      <td>...</td>\n",
       "      <td>...</td>\n",
       "    </tr>\n",
       "    <tr>\n",
       "      <th>高雄市鼓山區鼓岩里</th>\n",
       "      <td>0.014168</td>\n",
       "      <td>0.309327</td>\n",
       "      <td>0.676505</td>\n",
       "    </tr>\n",
       "    <tr>\n",
       "      <th>高雄市鼓山區鼓峰里</th>\n",
       "      <td>0.032982</td>\n",
       "      <td>0.473684</td>\n",
       "      <td>0.493333</td>\n",
       "    </tr>\n",
       "    <tr>\n",
       "      <th>高雄市鼓山區龍井里</th>\n",
       "      <td>0.023179</td>\n",
       "      <td>0.367550</td>\n",
       "      <td>0.609272</td>\n",
       "    </tr>\n",
       "    <tr>\n",
       "      <th>高雄市鼓山區龍子里</th>\n",
       "      <td>0.032340</td>\n",
       "      <td>0.381420</td>\n",
       "      <td>0.586240</td>\n",
       "    </tr>\n",
       "    <tr>\n",
       "      <th>高雄市鼓山區龍水里</th>\n",
       "      <td>0.037654</td>\n",
       "      <td>0.398947</td>\n",
       "      <td>0.563399</td>\n",
       "    </tr>\n",
       "  </tbody>\n",
       "</table>\n",
       "<p>7737 rows × 3 columns</p>\n",
       "</div>"
      ],
      "text/plain": [
       "                 soong       han      tsai\n",
       "combined_key                              \n",
       "南投縣中寮鄉中寮村     0.040632  0.489842  0.469526\n",
       "南投縣中寮鄉內城村     0.057239  0.474747  0.468013\n",
       "南投縣中寮鄉八仙村     0.039252  0.435514  0.525234\n",
       "南投縣中寮鄉和興村     0.021327  0.500000  0.478673\n",
       "南投縣中寮鄉崁頂村     0.052632  0.381579  0.565789\n",
       "...                ...       ...       ...\n",
       "高雄市鼓山區鼓岩里     0.014168  0.309327  0.676505\n",
       "高雄市鼓山區鼓峰里     0.032982  0.473684  0.493333\n",
       "高雄市鼓山區龍井里     0.023179  0.367550  0.609272\n",
       "高雄市鼓山區龍子里     0.032340  0.381420  0.586240\n",
       "高雄市鼓山區龍水里     0.037654  0.398947  0.563399\n",
       "\n",
       "[7737 rows x 3 columns]"
      ]
     },
     "execution_count": 25,
     "metadata": {},
     "output_type": "execute_result"
    }
   ],
   "source": [
    "votes_obtained"
   ]
  },
  {
   "cell_type": "markdown",
   "metadata": {
    "slideshow": {
     "slide_type": "subslide"
    }
   },
   "source": [
    "## Calculate cosine similarity"
   ]
  },
  {
   "cell_type": "code",
   "execution_count": 26,
   "metadata": {
    "slideshow": {
     "slide_type": "-"
    }
   },
   "outputs": [],
   "source": [
    "a = national_percentage.values\n",
    "a_norm = np.linalg.norm(a)\n",
    "cos_similarities = []\n",
    "for i in range(votes_obtained.shape[0]):\n",
    "    b = votes_obtained.iloc[i, :].values\n",
    "    b_norm = np.linalg.norm(b)\n",
    "    ab = np.dot(a, b)\n",
    "    cos_similarity = np.dot(a, b) / (a_norm*b_norm)\n",
    "    cos_similarities.append(cos_similarity)\n",
    "votes_obtained = votes_obtained.assign(cosine_similarity=cos_similarities)\n",
    "votes_obtained = votes_obtained.reset_index()"
   ]
  },
  {
   "cell_type": "markdown",
   "metadata": {
    "slideshow": {
     "slide_type": "subslide"
    }
   },
   "source": [
    "## Sort by cosine similarity with descending order to find 「章魚里」"
   ]
  },
  {
   "cell_type": "code",
   "execution_count": 27,
   "metadata": {
    "slideshow": {
     "slide_type": "-"
    }
   },
   "outputs": [
    {
     "data": {
      "text/html": [
       "<div>\n",
       "<style scoped>\n",
       "    .dataframe tbody tr th:only-of-type {\n",
       "        vertical-align: middle;\n",
       "    }\n",
       "\n",
       "    .dataframe tbody tr th {\n",
       "        vertical-align: top;\n",
       "    }\n",
       "\n",
       "    .dataframe thead th {\n",
       "        text-align: right;\n",
       "    }\n",
       "</style>\n",
       "<table border=\"1\" class=\"dataframe\">\n",
       "  <thead>\n",
       "    <tr style=\"text-align: right;\">\n",
       "      <th></th>\n",
       "      <th>combined_key</th>\n",
       "      <th>soong</th>\n",
       "      <th>han</th>\n",
       "      <th>tsai</th>\n",
       "      <th>cosine_similarity</th>\n",
       "    </tr>\n",
       "  </thead>\n",
       "  <tbody>\n",
       "    <tr>\n",
       "      <th>623</th>\n",
       "      <td>嘉義縣番路鄉內甕村</td>\n",
       "      <td>0.042553</td>\n",
       "      <td>0.386018</td>\n",
       "      <td>0.571429</td>\n",
       "      <td>1.000000</td>\n",
       "    </tr>\n",
       "    <tr>\n",
       "      <th>5609</th>\n",
       "      <td>臺南市東區關聖里</td>\n",
       "      <td>0.042450</td>\n",
       "      <td>0.386295</td>\n",
       "      <td>0.571255</td>\n",
       "      <td>1.000000</td>\n",
       "    </tr>\n",
       "    <tr>\n",
       "      <th>5196</th>\n",
       "      <td>臺南市中西區南門里</td>\n",
       "      <td>0.043410</td>\n",
       "      <td>0.385460</td>\n",
       "      <td>0.571130</td>\n",
       "      <td>0.999999</td>\n",
       "    </tr>\n",
       "    <tr>\n",
       "      <th>2889</th>\n",
       "      <td>新北市汐止區保長里</td>\n",
       "      <td>0.042833</td>\n",
       "      <td>0.386847</td>\n",
       "      <td>0.570320</td>\n",
       "      <td>0.999999</td>\n",
       "    </tr>\n",
       "    <tr>\n",
       "      <th>3122</th>\n",
       "      <td>新北市金山區五湖里</td>\n",
       "      <td>0.043765</td>\n",
       "      <td>0.385632</td>\n",
       "      <td>0.570603</td>\n",
       "      <td>0.999998</td>\n",
       "    </tr>\n",
       "    <tr>\n",
       "      <th>4910</th>\n",
       "      <td>臺北市南港區東新里</td>\n",
       "      <td>0.042036</td>\n",
       "      <td>0.385298</td>\n",
       "      <td>0.572666</td>\n",
       "      <td>0.999997</td>\n",
       "    </tr>\n",
       "    <tr>\n",
       "      <th>4852</th>\n",
       "      <td>臺北市內湖區西湖里</td>\n",
       "      <td>0.041285</td>\n",
       "      <td>0.386008</td>\n",
       "      <td>0.572707</td>\n",
       "      <td>0.999997</td>\n",
       "    </tr>\n",
       "    <tr>\n",
       "      <th>2355</th>\n",
       "      <td>新北市中和區清穗里</td>\n",
       "      <td>0.041865</td>\n",
       "      <td>0.385347</td>\n",
       "      <td>0.572788</td>\n",
       "      <td>0.999997</td>\n",
       "    </tr>\n",
       "    <tr>\n",
       "      <th>5282</th>\n",
       "      <td>臺南市北區重興里</td>\n",
       "      <td>0.042837</td>\n",
       "      <td>0.384831</td>\n",
       "      <td>0.572331</td>\n",
       "      <td>0.999997</td>\n",
       "    </tr>\n",
       "    <tr>\n",
       "      <th>2693</th>\n",
       "      <td>新北市板橋區景星里</td>\n",
       "      <td>0.042515</td>\n",
       "      <td>0.387607</td>\n",
       "      <td>0.569878</td>\n",
       "      <td>0.999996</td>\n",
       "    </tr>\n",
       "  </tbody>\n",
       "</table>\n",
       "</div>"
      ],
      "text/plain": [
       "     combined_key     soong       han      tsai  cosine_similarity\n",
       "623     嘉義縣番路鄉內甕村  0.042553  0.386018  0.571429           1.000000\n",
       "5609     臺南市東區關聖里  0.042450  0.386295  0.571255           1.000000\n",
       "5196    臺南市中西區南門里  0.043410  0.385460  0.571130           0.999999\n",
       "2889    新北市汐止區保長里  0.042833  0.386847  0.570320           0.999999\n",
       "3122    新北市金山區五湖里  0.043765  0.385632  0.570603           0.999998\n",
       "4910    臺北市南港區東新里  0.042036  0.385298  0.572666           0.999997\n",
       "4852    臺北市內湖區西湖里  0.041285  0.386008  0.572707           0.999997\n",
       "2355    新北市中和區清穗里  0.041865  0.385347  0.572788           0.999997\n",
       "5282     臺南市北區重興里  0.042837  0.384831  0.572331           0.999997\n",
       "2693    新北市板橋區景星里  0.042515  0.387607  0.569878           0.999996"
      ]
     },
     "execution_count": 27,
     "metadata": {},
     "output_type": "execute_result"
    }
   ],
   "source": [
    "votes_obtained.sort_values(['cosine_similarity', 'combined_key'], ascending=[False, True]).head(10)"
   ]
  },
  {
   "cell_type": "markdown",
   "metadata": {
    "slideshow": {
     "slide_type": "subslide"
    }
   },
   "source": [
    "## Can we find the similarity of our own village?\n",
    "\n",
    "Definitely."
   ]
  },
  {
   "cell_type": "code",
   "execution_count": 28,
   "metadata": {},
   "outputs": [
    {
     "data": {
      "text/html": [
       "<div>\n",
       "<style scoped>\n",
       "    .dataframe tbody tr th:only-of-type {\n",
       "        vertical-align: middle;\n",
       "    }\n",
       "\n",
       "    .dataframe tbody tr th {\n",
       "        vertical-align: top;\n",
       "    }\n",
       "\n",
       "    .dataframe thead th {\n",
       "        text-align: right;\n",
       "    }\n",
       "</style>\n",
       "<table border=\"1\" class=\"dataframe\">\n",
       "  <thead>\n",
       "    <tr style=\"text-align: right;\">\n",
       "      <th></th>\n",
       "      <th>combined_key</th>\n",
       "      <th>soong</th>\n",
       "      <th>han</th>\n",
       "      <th>tsai</th>\n",
       "      <th>cosine_similarity</th>\n",
       "    </tr>\n",
       "  </thead>\n",
       "  <tbody>\n",
       "    <tr>\n",
       "      <th>4759</th>\n",
       "      <td>臺北市中正區文盛里</td>\n",
       "      <td>0.053518</td>\n",
       "      <td>0.426338</td>\n",
       "      <td>0.520144</td>\n",
       "      <td>0.995611</td>\n",
       "    </tr>\n",
       "  </tbody>\n",
       "</table>\n",
       "</div>"
      ],
      "text/plain": [
       "     combined_key     soong       han      tsai  cosine_similarity\n",
       "4759    臺北市中正區文盛里  0.053518  0.426338  0.520144           0.995611"
      ]
     },
     "execution_count": 28,
     "metadata": {},
     "output_type": "execute_result"
    }
   ],
   "source": [
    "def find_my_village(my_village):\n",
    "    return votes_obtained[votes_obtained['combined_key'] == my_village]\n",
    "find_my_village('臺北市中正區文盛里')"
   ]
  },
  {
   "cell_type": "markdown",
   "metadata": {
    "slideshow": {
     "slide_type": "slide"
    }
   },
   "source": [
    "## Last but not least"
   ]
  },
  {
   "cell_type": "markdown",
   "metadata": {
    "slideshow": {
     "slide_type": "subslide"
    }
   },
   "source": [
    "## So, you are interested in data science, machine learning, or artificial intelligence\n",
    "\n",
    "How to get started?"
   ]
  },
  {
   "cell_type": "markdown",
   "metadata": {
    "slideshow": {
     "slide_type": "subslide"
    }
   },
   "source": [
    "## As always, start with the most practical one: programming\n",
    "\n",
    "- Python\n",
    "- Using libraries\n",
    "- Object-oriented programming\n",
    "- Data structures\n",
    "- Algorithm"
   ]
  },
  {
   "cell_type": "markdown",
   "metadata": {
    "slideshow": {
     "slide_type": "subslide"
    }
   },
   "source": [
    "## Learning while doing exercises\n",
    "\n",
    "- [Learn Python the Hard Way](https://www.amazon.com/Learn-Python-Hard-Way-Introduction/dp/0321884914)\n",
    "- [Introducing Python](https://www.amazon.com/Introducing-Python-Modern-Computing-Packages/dp/1449359361)\n",
    "- [DataCamp](https://www.datacamp.com?tap_a=5644-dce66f&tap_s=194899-1fb421&utm_medium=affiliate&utm_source=tonykuo)\n",
    "- [LeetCode](https://leetcode.com/)\n",
    "- [HackerRank](https://www.hackerrank.com/)"
   ]
  },
  {
   "cell_type": "markdown",
   "metadata": {
    "slideshow": {
     "slide_type": "subslide"
    }
   },
   "source": [
    "## Use Python libraries for analysis and visualization\n",
    "\n",
    "- [Requests](https://requests.readthedocs.io/en/master/) for web scraping\n",
    "- [NumPy](https://numpy.org/) for multi-dimensional array\n",
    "- [Pandas](https://pandas.pydata.org/) for dataframe\n",
    "- [Matplotlib](https://matplotlib.org/) for visualization"
   ]
  },
  {
   "cell_type": "markdown",
   "metadata": {
    "slideshow": {
     "slide_type": "subslide"
    }
   },
   "source": [
    "## Use Python to learn math and machine learning theory\n",
    "\n",
    "- [The Matrix Calculus You Need For Deep Learning](https://explained.ai/matrix-calculus/)\n",
    "- [Linear Algebra](https://ocw.mit.edu/resources/res-18-010-a-2020-vision-of-linear-algebra-spring-2020/)\n",
    "- [Machine Learning](https://www.coursera.org/learn/machine-learning)\n",
    "- [Machine Learning(Hung-yi Lee, NTU)](https://www.youtube.com/playlist?list=PLJV_el3uVTsPy9oCRY30oBPNLCo89yu49)\n",
    "- [Deep Learning](https://www.deeplearningbook.org/)"
   ]
  },
  {
   "cell_type": "markdown",
   "metadata": {
    "slideshow": {
     "slide_type": "subslide"
    }
   },
   "source": [
    "## Use R to learn statistics\n",
    "\n",
    "- [The Art of R Programming](https://www.amazon.com/Art-Programming-Statistical-Software-Design/dp/1593273843)\n",
    "- [Advanced R](https://adv-r.hadley.nz/)\n",
    "- [Data Science Specialization](https://www.coursera.org/specializations/jhu-data-science)\n",
    "- [Statistics with R Specialization](https://www.coursera.org/specializations/statistics)"
   ]
  },
  {
   "cell_type": "markdown",
   "metadata": {
    "slideshow": {
     "slide_type": "subslide"
    }
   },
   "source": [
    "## Phew, that is a lot to catch up...\n",
    "\n",
    "You do not have to finish every course or book from end to end. It is a mix-and-match.\n",
    "\n",
    "![](https://media.giphy.com/media/JMV7IKoqzxlrW/giphy.gif)\n",
    "\n",
    "Source: <https://media.giphy.com/>"
   ]
  }
 ],
 "metadata": {
  "celltoolbar": "Slideshow",
  "kernelspec": {
   "display_name": "Python Machine Learning",
   "language": "python",
   "name": "pyml"
  },
  "language_info": {
   "codemirror_mode": {
    "name": "ipython",
    "version": 3
   },
   "file_extension": ".py",
   "mimetype": "text/x-python",
   "name": "python",
   "nbconvert_exporter": "python",
   "pygments_lexer": "ipython3",
   "version": "3.6.8"
  }
 },
 "nbformat": 4,
 "nbformat_minor": 2
}
