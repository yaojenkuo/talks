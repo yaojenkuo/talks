{
 "cells": [
  {
   "cell_type": "markdown",
   "metadata": {
    "slideshow": {
     "slide_type": "slide"
    }
   },
   "source": [
    "# Data Analyst's Toolbox: R and Python\n",
    "\n",
    "> Institute of Political Science, NSYSU, 2020-12-25\n",
    "\n",
    "Kuo, Yao-Jen <yaojenkuo@datainpoint.com> from [DATAINPOINT](https://www.datainpoint.com)"
   ]
  },
  {
   "cell_type": "code",
   "execution_count": 1,
   "metadata": {
    "slideshow": {
     "slide_type": "skip"
    }
   },
   "outputs": [],
   "source": [
    "import numpy as np\n",
    "import matplotlib.pyplot as plt\n",
    "import pandas as pd"
   ]
  },
  {
   "cell_type": "markdown",
   "metadata": {
    "slideshow": {
     "slide_type": "subslide"
    }
   },
   "source": [
    "## TL; DR\n",
    "\n",
    "![Imgur](https://i.imgur.com/LLMdLrU.gif)\n",
    "\n",
    "Source: <https://memes.tw/>"
   ]
  },
  {
   "cell_type": "markdown",
   "metadata": {
    "slideshow": {
     "slide_type": "slide"
    }
   },
   "source": [
    "## About me"
   ]
  },
  {
   "cell_type": "markdown",
   "metadata": {
    "slideshow": {
     "slide_type": "subslide"
    }
   },
   "source": [
    "## Teaching practical data science online/offline, for individuals\n",
    "\n",
    "- [如何成為資料分析師：從問題解決到行動方案，Hahow 好學校](https://hahow.in/cr/dajourney)\n",
    "- Visualization and modern data science, Adjunct Instructor, National Taiwan University\n",
    "- Programming and business analytics, Adjunct Instructor, National Taiwan Normal University\n",
    "- Python for data analysis, Instructor, Chunghwa Telecom Academy\n",
    "- Python for data science, Machine learning from scratch, Senior Instructor, CSIE Training Program, National Taiwan University"
   ]
  },
  {
   "cell_type": "markdown",
   "metadata": {
    "slideshow": {
     "slide_type": "subslide"
    }
   },
   "source": [
    "## Also for commercial banking clients\n",
    "\n",
    "- 2020 DBS Training Program\n",
    "- 2019 HNCB Training Program\n",
    "- 2017 ESUN Training Program"
   ]
  },
  {
   "cell_type": "markdown",
   "metadata": {
    "slideshow": {
     "slide_type": "subslide"
    }
   },
   "source": [
    "## Writing books\n",
    "\n",
    "- [新手村逃脫！初心者的 Python 機器學習攻略](https://www.books.com.tw/products/0010867390)\n",
    "- [進擊的資料科學](https://www.books.com.tw/products/0010827812)\n",
    "- [輕鬆學習 R 語言](https://www.books.com.tw/products/0010835361)"
   ]
  },
  {
   "cell_type": "markdown",
   "metadata": {
    "slideshow": {
     "slide_type": "subslide"
    }
   },
   "source": [
    "## Writing blogs\n",
    "\n",
    "- [Medium](https://medium.com/@tonykuoyj)\n",
    "- [Substack](https://datainpoint.substack.com/about)\n",
    "- [方格子](https://vocus.cc/user/@yaojenkuo)"
   ]
  },
  {
   "cell_type": "markdown",
   "metadata": {
    "slideshow": {
     "slide_type": "subslide"
    }
   },
   "source": [
    "## Before being a instructor\n",
    "\n",
    "- Working experience\n",
    "    - Senior Data Analyst, Coupang Shanghai\n",
    "    - Analytical Consultant, SAS Taiwan\n",
    "    - Management Associate, Chinatrust Banking Corporation Taiwan\n",
    "    - Research Assistant, McKinsey & Company Taiwan\n",
    "- Education\n",
    "    - MBA, National Taiwan University\n",
    "    - BA, National Taiwan University"
   ]
  },
  {
   "cell_type": "markdown",
   "metadata": {
    "slideshow": {
     "slide_type": "subslide"
    }
   },
   "source": [
    "## Loves running with a marathon PR of 2:43:12 at 2019 Seoul Marathon\n",
    "\n",
    "![](https://media.giphy.com/media/ftqg6fMvi3R9LVcU0t/giphy.gif)\n",
    "\n",
    "Source: <https://giphy.com>"
   ]
  },
  {
   "cell_type": "markdown",
   "metadata": {
    "slideshow": {
     "slide_type": "slide"
    }
   },
   "source": [
    "## What is data analysis"
   ]
  },
  {
   "cell_type": "markdown",
   "metadata": {
    "slideshow": {
     "slide_type": "subslide"
    }
   },
   "source": [
    "## The definition\n",
    "\n",
    "> We generate questions about a specific topic, we search for answers by exploring, transforming, and modelling data referring to our topic. And then use what we've learned to refine questions or generate new questions.\n",
    "\n",
    "Source: [R for Data Science](https://r4ds.had.co.nz/)"
   ]
  },
  {
   "cell_type": "markdown",
   "metadata": {
    "slideshow": {
     "slide_type": "subslide"
    }
   },
   "source": [
    "## Why data analysis\n",
    "\n",
    "> It is now an era of data-driven strategic thinking, and is probably never coming back."
   ]
  },
  {
   "cell_type": "markdown",
   "metadata": {
    "slideshow": {
     "slide_type": "subslide"
    }
   },
   "source": [
    "## The three means of persuasion that an orator must rely on\n",
    "\n",
    "- Ethos\n",
    "- Pathos\n",
    "- Logos\n",
    "\n",
    "Source: [Aristotle, Rhetoric](https://en.wikipedia.org/wiki/Rhetoric)"
   ]
  },
  {
   "cell_type": "markdown",
   "metadata": {
    "slideshow": {
     "slide_type": "subslide"
    }
   },
   "source": [
    "## It is a lot easier to persuade via ethos or pathos, but it takes time\n",
    "\n",
    "However, logos can be easily acquired once it is a fact and can be proven. Hence, data analysis is often the express way to logos."
   ]
  },
  {
   "cell_type": "markdown",
   "metadata": {
    "slideshow": {
     "slide_type": "subslide"
    }
   },
   "source": [
    "## Modern data analysis can be illustrated as the flow of data\n",
    "\n",
    "![Imgur](https://i.imgur.com/din6Ig6.png)\n",
    "\n",
    "Source: [R for Data Science](https://r4ds.had.co.nz/)"
   ]
  },
  {
   "cell_type": "markdown",
   "metadata": {
    "slideshow": {
     "slide_type": "subslide"
    }
   },
   "source": [
    "## The funny definitions\n",
    "\n",
    "![Imgur](https://i.imgur.com/vbczHMF.jpg)\n",
    "\n",
    "Source: <https://twitter.com/cdixon/status/428914681911070720/photo/1>"
   ]
  },
  {
   "cell_type": "markdown",
   "metadata": {
    "slideshow": {
     "slide_type": "subslide"
    }
   },
   "source": [
    "![Imgur](https://i.imgur.com/QhZ2FDY.png?2)\n",
    "\n",
    "Source: <https://www.warnerbros.com/tv/friends/>"
   ]
  },
  {
   "cell_type": "markdown",
   "metadata": {
    "slideshow": {
     "slide_type": "subslide"
    }
   },
   "source": [
    "![Imgur](https://i.imgur.com/iZwdP9t.png?5)\n",
    "\n",
    "Source: <https://www.warnerbros.com/tv/friends/>"
   ]
  },
  {
   "cell_type": "markdown",
   "metadata": {
    "slideshow": {
     "slide_type": "subslide"
    }
   },
   "source": [
    "## The serious definition\n",
    "\n",
    "> Modern data analysis invovles applications and tools like importing, tidying, transformation, visualization, modeling, and communication. Surrounding all these is programming."
   ]
  },
  {
   "cell_type": "code",
   "execution_count": 2,
   "metadata": {
    "slideshow": {
     "slide_type": "skip"
    }
   },
   "outputs": [],
   "source": [
    "def get_value_ratios(df, col_name):\n",
    "    return df[col_name].value_counts() / df[col_name].value_counts().sum()\n",
    "def get_checkbox_ratios(df, col_pattern):\n",
    "    channel_names = []\n",
    "    channel_checks = []\n",
    "    for col_name in df.columns:\n",
    "        if (col_pattern in col_name) and ('OTHER_TEXT' not in col_name):\n",
    "            channel_name = df[col_name].value_counts().index\n",
    "            channel_check = df[col_name].value_counts().values\n",
    "            if channel_name.size != 0:\n",
    "                channel_names.append(channel_name[0])\n",
    "                channel_checks.append(channel_check[0])\n",
    "    channel_counts = pd.Series(channel_checks, index=channel_names)\n",
    "    channel_ratios = channel_counts / channel_counts.sum()\n",
    "    channel_ratios_sorted = channel_ratios.sort_values(ascending=False)\n",
    "    return channel_ratios_sorted\n",
    "def plot_ans_38(ans_38_ser):\n",
    "    fig = plt.figure()\n",
    "    ax = plt.axes()\n",
    "    ans_38_ser = ans_38_ser[::-1]\n",
    "    ax.barh(ans_38_ser.index, ans_38_ser.values, color=['c', 'c', 'c', 'c', 'c', 'r'])\n",
    "    ax.set_title(\"What is the primary tool that you use at work or school to analyze data?\")\n",
    "    ax.set_xticks([0, 0.1, 0.2, 0.3, 0.4, 0.5])\n",
    "    ax.set_xticklabels(['0%', '10%', '20%', '30%', '40%', '50%'])\n",
    "    ax.spines['top'].set_visible(False)\n",
    "    ax.spines['right'].set_visible(False)\n",
    "    ax.spines['bottom'].set_visible(False)\n",
    "    plt.show()\n",
    "def get_ax(ans_ser, plot_title, ax):\n",
    "    ax = ax\n",
    "    ans_ser = ans_ser[:10][::-1]\n",
    "    ax.barh(ans_ser.index, ans_ser.values, color=['c', 'c', 'c', 'c', 'c', 'c', 'c', 'r', 'r', 'r'])\n",
    "    ax.spines['top'].set_visible(False)\n",
    "    ax.spines['right'].set_visible(False)\n",
    "    ax.spines['bottom'].set_visible(False)\n",
    "    ax.set_title(plot_title)\n",
    "def plot_ans(ans_ser, question_str):\n",
    "    fig, axes = plt.subplots()\n",
    "    get_ax(ans_ser, question_str, axes)\n",
    "    plt.show()\n",
    "survey = pd.read_csv(\"https://kaggle-ml-ds-survey.s3-ap-northeast-1.amazonaws.com/kaggle-survey-2020/kaggle_survey_2020_responses.csv\", skiprows=[1])\n",
    "ans_7 = get_checkbox_ratios(survey, 'Q7')\n",
    "ans_8 = get_value_ratios(survey, 'Q8')\n",
    "ans_38 = get_value_ratios(survey, 'Q38')"
   ]
  },
  {
   "cell_type": "markdown",
   "metadata": {
    "slideshow": {
     "slide_type": "subslide"
    }
   },
   "source": [
    "## Use programming language to analyze data\n",
    "\n",
    "Let's review a question from [2020 Kaggle ML & DS Survey](https://www.kaggle.com/c/kaggle-survey-2020):\n",
    "\n",
    "> What is the primary tool that you use at work or school to analyze data?"
   ]
  },
  {
   "cell_type": "code",
   "execution_count": 3,
   "metadata": {
    "slideshow": {
     "slide_type": "subslide"
    }
   },
   "outputs": [
    {
     "data": {
      "image/png": "[encoded data removed]",
      "text/plain": [
       "<Figure size 432x288 with 1 Axes>"
      ]
     },
     "metadata": {
      "needs_background": "light"
     },
     "output_type": "display_data"
    }
   ],
   "source": [
    "plot_ans_38(ans_38)"
   ]
  },
  {
   "cell_type": "markdown",
   "metadata": {
    "slideshow": {
     "slide_type": "subslide"
    }
   },
   "source": [
    "## It seems inevitable to write codes in modern data analysis\n",
    "\n",
    "![](https://media.giphy.com/media/ie76dJeem4xBDcf83e/giphy.gif)\n",
    "\n",
    "Source: <https://giphy.com/>"
   ]
  },
  {
   "cell_type": "markdown",
   "metadata": {
    "slideshow": {
     "slide_type": "subslide"
    }
   },
   "source": [
    "## Simply put, we can choose any programming language as long as it is capable of\n",
    "\n",
    "- Importing data\n",
    "- Tidying data\n",
    "- Transforming data\n",
    "- Visualizing data\n",
    "- Modeling data\n",
    "- Communicating data"
   ]
  },
  {
   "cell_type": "markdown",
   "metadata": {
    "slideshow": {
     "slide_type": "subslide"
    }
   },
   "source": [
    "## Well, actually a lot of programming languages are capable of doing these\n",
    "\n",
    "- Python\n",
    "- R\n",
    "- Julia\n",
    "- Scala\n",
    "- Matlab\n",
    "- SAS\n",
    "- ...etc."
   ]
  },
  {
   "cell_type": "markdown",
   "metadata": {
    "slideshow": {
     "slide_type": "subslide"
    }
   },
   "source": [
    "## How to choose among so many alternatives?\n",
    "\n",
    "- The philosophy of \"Eating a water mellon\".\n",
    "- The full support of scientific computing.\n",
    "- Our objectivity."
   ]
  },
  {
   "cell_type": "markdown",
   "metadata": {
    "slideshow": {
     "slide_type": "subslide"
    }
   },
   "source": [
    "## The philosophy of \"Eating a water mellon\"\n",
    "\n",
    "Let's review another 2 questions from [2020 Kaggle ML & DS Survey](https://www.kaggle.com/c/kaggle-survey-2020):\n",
    "\n",
    "- What programming languages do you use on a regular basis?\n",
    "- What programming language would you recommend an aspiring data scientist to learn first?"
   ]
  },
  {
   "cell_type": "code",
   "execution_count": 4,
   "metadata": {
    "slideshow": {
     "slide_type": "subslide"
    }
   },
   "outputs": [
    {
     "data": {
      "image/png": "[encoded data removed]",
      "text/plain": [
       "<Figure size 432x288 with 1 Axes>"
      ]
     },
     "metadata": {
      "needs_background": "light"
     },
     "output_type": "display_data"
    }
   ],
   "source": [
    "plot_ans(ans_7, \"What programming languages do you use on a regular basis?\")"
   ]
  },
  {
   "cell_type": "code",
   "execution_count": 5,
   "metadata": {
    "slideshow": {
     "slide_type": "subslide"
    }
   },
   "outputs": [
    {
     "data": {
      "image/png": "[encoded data removed]",
      "text/plain": [
       "<Figure size 432x288 with 1 Axes>"
      ]
     },
     "metadata": {
      "needs_background": "light"
     },
     "output_type": "display_data"
    }
   ],
   "source": [
    "plot_ans(ans_8, \"What programming language would you recommend \\n an aspiring data scientist to learn first?\")"
   ]
  },
  {
   "cell_type": "markdown",
   "metadata": {
    "slideshow": {
     "slide_type": "subslide"
    }
   },
   "source": [
    "## R and Python in Stack Overflow Trends\n",
    "\n",
    "<https://insights.stackoverflow.com/trends?tags=python%2Cr%2Cjulia%2Cscala%2Cmatlab%2Csas>"
   ]
  },
  {
   "cell_type": "markdown",
   "metadata": {
    "slideshow": {
     "slide_type": "subslide"
    }
   },
   "source": [
    "## The full support of scientific computing\n",
    "\n",
    "- Does the language support vectorization?\n",
    "- Does the language support various data format?\n",
    "- Does the language support visualization?"
   ]
  },
  {
   "cell_type": "markdown",
   "metadata": {
    "slideshow": {
     "slide_type": "subslide"
    }
   },
   "source": [
    "## Both R and Python support vectorization\n",
    "\n",
    "- R uses built-in `vector` and `matrix`.\n",
    "- Python uses a third-party `ndarray`."
   ]
  },
  {
   "cell_type": "markdown",
   "metadata": {
    "slideshow": {
     "slide_type": "subslide"
    }
   },
   "source": [
    "## Both R and Python support various data format\n",
    "\n",
    "- R uses\n",
    "    - built-in named `list` to support key-value storage\n",
    "    - built-in `data.frame` to support tabular data\n",
    "- Python uses\n",
    "    - built-in `dict` to support key-value storage\n",
    "    - third-party `DataFrame` to support tabular data"
   ]
  },
  {
   "cell_type": "markdown",
   "metadata": {
    "slideshow": {
     "slide_type": "subslide"
    }
   },
   "source": [
    "## Both R and Python support visualization\n",
    "\n",
    "- R uses\n",
    "    - built-in basic plotting system to support static plotting\n",
    "    - third-party `ggplot2` to support high-end static plotting\n",
    "    - third-party `shiny` to support dynamic plotting\n",
    "- Python uses\n",
    "    - third-party `matplotlib` to support static plotting\n",
    "    - third-party `seaborn` to support high-end static plotting\n",
    "    - third-party `plotly` to support dynamic plotting"
   ]
  },
  {
   "cell_type": "markdown",
   "metadata": {
    "slideshow": {
     "slide_type": "subslide"
    }
   },
   "source": [
    "## Last but not least, it depends on our objectivity\n",
    "\n",
    "- Specific or general-purposed?\n",
    "- Functional or object-oriented?\n",
    "- ...etc."
   ]
  },
  {
   "cell_type": "markdown",
   "metadata": {
    "slideshow": {
     "slide_type": "subslide"
    }
   },
   "source": [
    "## We will generate our own objectivity once we start coding\n",
    "\n",
    "![](https://media.giphy.com/media/LmrlNycquCmOPFM6WR/giphy.gif)\n",
    "\n",
    "Source: <https://giphy.com>"
   ]
  },
  {
   "cell_type": "markdown",
   "metadata": {
    "slideshow": {
     "slide_type": "slide"
    }
   },
   "source": [
    "## Let's write some codes to analyze data"
   ]
  },
  {
   "cell_type": "markdown",
   "metadata": {
    "slideshow": {
     "slide_type": "subslide"
    }
   },
   "source": [
    "## Bringing up  a topic\n",
    "\n",
    "> 大選開票看哪個里最準？ 「章魚里」神預測告訴你。每次到了選舉，總是會有幾個里開票與大選結果相似，因此被各界視為重點關注的開票區域。\n",
    "\n",
    "Source: <https://www.cw.com.tw/article/5093012>"
   ]
  },
  {
   "cell_type": "markdown",
   "metadata": {
    "slideshow": {
     "slide_type": "subslide"
    }
   },
   "source": [
    "## We can generate some questions regarding this topic\n",
    "\n",
    "- How to define 「章魚里」?\n",
    "- Can we find out 「章魚里」 based on 2020 presidential data?\n",
    "- Can we find the similarity of our own village?"
   ]
  },
  {
   "cell_type": "markdown",
   "metadata": {
    "slideshow": {
     "slide_type": "subslide"
    }
   },
   "source": [
    "## How to define 「章魚里」？\n",
    "\n",
    "Basically, after a few literature search, you may find the definition of 「章魚里」 is quite ambigious. So we are using a much fancier metric: **cosine similarity**."
   ]
  },
  {
   "cell_type": "markdown",
   "metadata": {
    "slideshow": {
     "slide_type": "subslide"
    }
   },
   "source": [
    "## What is cosine similarity\n",
    "\n",
    "> Cosine similarity is a measure of similarity between two non-zero vectors of an inner product space. It is defined to equal the cosine of the angle between them, which is also the same as the inner product of the same vectors normalized to both have length 1.\n",
    "\n",
    "\\begin{equation}\n",
    "a = (a_1, a_2, a_3) \\\\\n",
    "b = (b_1, b_2, b_3)\n",
    "\\end{equation}\n",
    "\n",
    "\\begin{align}\n",
    "cos\\theta &= \\frac{\\sum_i(a_i \\times b_i)}{\\sqrt{\\sum_i a_i^2} \\times \\sqrt{\\sum_i b_i^2}} \\\\\n",
    "&= \\frac{a \\cdot b}{\\parallel a \\parallel \\times \\parallel b \\parallel}\n",
    "\\end{align}\n",
    "\n",
    "Source: <https://en.wikipedia.org/wiki/Cosine_similarity>"
   ]
  },
  {
   "cell_type": "markdown",
   "metadata": {
    "slideshow": {
     "slide_type": "subslide"
    }
   },
   "source": [
    "## Can we find out 「章魚里」 based on 2020 presidential data？\n",
    "\n",
    "Definitely, we all have access to the [Central Election Commission](https://db.cec.gov.tw/)."
   ]
  },
  {
   "cell_type": "markdown",
   "metadata": {
    "slideshow": {
     "slide_type": "subslide"
    }
   },
   "source": [
    "## We've downloaded these spreadsheets and prepared an in-browser environment for you.\n",
    "\n",
    "[![Binder](https://mybinder.org/badge_logo.svg)](https://mybinder.org/v2/gh/yaojenkuo/talks/HEAD)"
   ]
  },
  {
   "cell_type": "markdown",
   "metadata": {
    "slideshow": {
     "slide_type": "subslide"
    }
   },
   "source": [
    "## We can access to a Python notebook, R notebook, or RStudio in browser, no strings attached.\n",
    "\n",
    "![Imgur](https://i.imgur.com/3nQyAeq.jpg)"
   ]
  },
  {
   "cell_type": "markdown",
   "metadata": {
    "slideshow": {
     "slide_type": "subslide"
    }
   },
   "source": [
    "## Besides a few kernels to execute, we also attached some data.\n",
    "\n",
    "- Reading a CSV file.\n",
    "- Reading a Excel spreadsheet."
   ]
  },
  {
   "cell_type": "code",
   "execution_count": 6,
   "metadata": {},
   "outputs": [],
   "source": [
    "# reading data via Python's pandas library\n",
    "csv_df = pd.read_csv('presidential_2020.csv')\n",
    "excel_df = pd.read_excel('presidential-2020/總統-A05-4-候選人得票數一覽表-各投開票所(南投縣).xls', skiprows=[0, 1, 3, 4])"
   ]
  },
  {
   "cell_type": "markdown",
   "metadata": {
    "slideshow": {
     "slide_type": "subslide"
    }
   },
   "source": [
    "## Our CSV file is an integrated file after manipulations"
   ]
  },
  {
   "cell_type": "code",
   "execution_count": 7,
   "metadata": {},
   "outputs": [
    {
     "data": {
      "text/html": [
       "<div>\n",
       "<style scoped>\n",
       "    .dataframe tbody tr th:only-of-type {\n",
       "        vertical-align: middle;\n",
       "    }\n",
       "\n",
       "    .dataframe tbody tr th {\n",
       "        vertical-align: top;\n",
       "    }\n",
       "\n",
       "    .dataframe thead th {\n",
       "        text-align: right;\n",
       "    }\n",
       "</style>\n",
       "<table border=\"1\" class=\"dataframe\">\n",
       "  <thead>\n",
       "    <tr style=\"text-align: right;\">\n",
       "      <th></th>\n",
       "      <th>county</th>\n",
       "      <th>town</th>\n",
       "      <th>village</th>\n",
       "      <th>office</th>\n",
       "      <th>number</th>\n",
       "      <th>candidate</th>\n",
       "      <th>votes</th>\n",
       "    </tr>\n",
       "  </thead>\n",
       "  <tbody>\n",
       "    <tr>\n",
       "      <th>0</th>\n",
       "      <td>宜蘭縣</td>\n",
       "      <td>宜蘭市</td>\n",
       "      <td>民族里</td>\n",
       "      <td>1</td>\n",
       "      <td>1</td>\n",
       "      <td>宋楚瑜/余湘</td>\n",
       "      <td>37</td>\n",
       "    </tr>\n",
       "    <tr>\n",
       "      <th>1</th>\n",
       "      <td>宜蘭縣</td>\n",
       "      <td>宜蘭市</td>\n",
       "      <td>民族里</td>\n",
       "      <td>2</td>\n",
       "      <td>1</td>\n",
       "      <td>宋楚瑜/余湘</td>\n",
       "      <td>31</td>\n",
       "    </tr>\n",
       "    <tr>\n",
       "      <th>2</th>\n",
       "      <td>宜蘭縣</td>\n",
       "      <td>宜蘭市</td>\n",
       "      <td>建軍里</td>\n",
       "      <td>3</td>\n",
       "      <td>1</td>\n",
       "      <td>宋楚瑜/余湘</td>\n",
       "      <td>19</td>\n",
       "    </tr>\n",
       "    <tr>\n",
       "      <th>3</th>\n",
       "      <td>宜蘭縣</td>\n",
       "      <td>宜蘭市</td>\n",
       "      <td>建軍里</td>\n",
       "      <td>4</td>\n",
       "      <td>1</td>\n",
       "      <td>宋楚瑜/余湘</td>\n",
       "      <td>29</td>\n",
       "    </tr>\n",
       "    <tr>\n",
       "      <th>4</th>\n",
       "      <td>宜蘭縣</td>\n",
       "      <td>宜蘭市</td>\n",
       "      <td>泰山里</td>\n",
       "      <td>5</td>\n",
       "      <td>1</td>\n",
       "      <td>宋楚瑜/余湘</td>\n",
       "      <td>25</td>\n",
       "    </tr>\n",
       "  </tbody>\n",
       "</table>\n",
       "</div>"
      ],
      "text/plain": [
       "  county town village  office  number candidate  votes\n",
       "0    宜蘭縣  宜蘭市     民族里       1       1    宋楚瑜/余湘     37\n",
       "1    宜蘭縣  宜蘭市     民族里       2       1    宋楚瑜/余湘     31\n",
       "2    宜蘭縣  宜蘭市     建軍里       3       1    宋楚瑜/余湘     19\n",
       "3    宜蘭縣  宜蘭市     建軍里       4       1    宋楚瑜/余湘     29\n",
       "4    宜蘭縣  宜蘭市     泰山里       5       1    宋楚瑜/余湘     25"
      ]
     },
     "execution_count": 7,
     "metadata": {},
     "output_type": "execute_result"
    }
   ],
   "source": [
    "csv_df.head()"
   ]
  },
  {
   "cell_type": "markdown",
   "metadata": {
    "slideshow": {
     "slide_type": "subslide"
    }
   },
   "source": [
    "## Our Excel spreadsheets are the original files downloaded from [Central Election Commission](https://db.cec.gov.tw/)"
   ]
  },
  {
   "cell_type": "code",
   "execution_count": 8,
   "metadata": {},
   "outputs": [
    {
     "data": {
      "text/html": [
       "<div>\n",
       "<style scoped>\n",
       "    .dataframe tbody tr th:only-of-type {\n",
       "        vertical-align: middle;\n",
       "    }\n",
       "\n",
       "    .dataframe tbody tr th {\n",
       "        vertical-align: top;\n",
       "    }\n",
       "\n",
       "    .dataframe thead th {\n",
       "        text-align: right;\n",
       "    }\n",
       "</style>\n",
       "<table border=\"1\" class=\"dataframe\">\n",
       "  <thead>\n",
       "    <tr style=\"text-align: right;\">\n",
       "      <th></th>\n",
       "      <th>Unnamed: 0</th>\n",
       "      <th>Unnamed: 1</th>\n",
       "      <th>Unnamed: 2</th>\n",
       "      <th>(1)\\n宋楚瑜\\n余湘</th>\n",
       "      <th>(2)\\n韓國瑜\\n張善政</th>\n",
       "      <th>(3)\\n蔡英文\\n賴清德</th>\n",
       "      <th>Unnamed: 6</th>\n",
       "      <th>Unnamed: 7</th>\n",
       "      <th>Unnamed: 8</th>\n",
       "      <th>Unnamed: 9</th>\n",
       "      <th>Unnamed: 10</th>\n",
       "      <th>Unnamed: 11</th>\n",
       "      <th>Unnamed: 12</th>\n",
       "      <th>Unnamed: 13</th>\n",
       "    </tr>\n",
       "  </thead>\n",
       "  <tbody>\n",
       "    <tr>\n",
       "      <th>0</th>\n",
       "      <td>總　計</td>\n",
       "      <td>NaN</td>\n",
       "      <td>NaN</td>\n",
       "      <td>13,315</td>\n",
       "      <td>133,791</td>\n",
       "      <td>152,046</td>\n",
       "      <td>299,152</td>\n",
       "      <td>3,555</td>\n",
       "      <td>302,707</td>\n",
       "      <td>13</td>\n",
       "      <td>302,720</td>\n",
       "      <td>110,765</td>\n",
       "      <td>413,485</td>\n",
       "      <td>73.2087</td>\n",
       "    </tr>\n",
       "    <tr>\n",
       "      <th>1</th>\n",
       "      <td>南投市</td>\n",
       "      <td>NaN</td>\n",
       "      <td>NaN</td>\n",
       "      <td>3,077</td>\n",
       "      <td>26,690</td>\n",
       "      <td>30,910</td>\n",
       "      <td>60,677</td>\n",
       "      <td>693</td>\n",
       "      <td>61,370</td>\n",
       "      <td>3</td>\n",
       "      <td>61,373</td>\n",
       "      <td>20,480</td>\n",
       "      <td>81,853</td>\n",
       "      <td>74.9759</td>\n",
       "    </tr>\n",
       "    <tr>\n",
       "      <th>2</th>\n",
       "      <td>NaN</td>\n",
       "      <td>龍泉里</td>\n",
       "      <td>1.0</td>\n",
       "      <td>26</td>\n",
       "      <td>241</td>\n",
       "      <td>391</td>\n",
       "      <td>658</td>\n",
       "      <td>8</td>\n",
       "      <td>666</td>\n",
       "      <td>0</td>\n",
       "      <td>666</td>\n",
       "      <td>228</td>\n",
       "      <td>894</td>\n",
       "      <td>74.4966</td>\n",
       "    </tr>\n",
       "    <tr>\n",
       "      <th>3</th>\n",
       "      <td>NaN</td>\n",
       "      <td>康壽里</td>\n",
       "      <td>2.0</td>\n",
       "      <td>30</td>\n",
       "      <td>216</td>\n",
       "      <td>266</td>\n",
       "      <td>512</td>\n",
       "      <td>4</td>\n",
       "      <td>516</td>\n",
       "      <td>0</td>\n",
       "      <td>516</td>\n",
       "      <td>128</td>\n",
       "      <td>644</td>\n",
       "      <td>80.1242</td>\n",
       "    </tr>\n",
       "    <tr>\n",
       "      <th>4</th>\n",
       "      <td>NaN</td>\n",
       "      <td>康壽里</td>\n",
       "      <td>3.0</td>\n",
       "      <td>25</td>\n",
       "      <td>239</td>\n",
       "      <td>306</td>\n",
       "      <td>570</td>\n",
       "      <td>8</td>\n",
       "      <td>578</td>\n",
       "      <td>0</td>\n",
       "      <td>578</td>\n",
       "      <td>154</td>\n",
       "      <td>732</td>\n",
       "      <td>78.9617</td>\n",
       "    </tr>\n",
       "  </tbody>\n",
       "</table>\n",
       "</div>"
      ],
      "text/plain": [
       "  Unnamed: 0 Unnamed: 1  Unnamed: 2 (1)\\n宋楚瑜\\n余湘 (2)\\n韓國瑜\\n張善政 (3)\\n蔡英文\\n賴清德  \\\n",
       "0        總　計        NaN         NaN       13,315       133,791       152,046   \n",
       "1       　南投市        NaN         NaN        3,077        26,690        30,910   \n",
       "2        NaN        龍泉里         1.0           26           241           391   \n",
       "3        NaN        康壽里         2.0           30           216           266   \n",
       "4        NaN        康壽里         3.0           25           239           306   \n",
       "\n",
       "  Unnamed: 6 Unnamed: 7 Unnamed: 8  Unnamed: 9 Unnamed: 10 Unnamed: 11  \\\n",
       "0    299,152      3,555    302,707          13     302,720     110,765   \n",
       "1     60,677        693     61,370           3      61,373      20,480   \n",
       "2        658          8        666           0         666         228   \n",
       "3        512          4        516           0         516         128   \n",
       "4        570          8        578           0         578         154   \n",
       "\n",
       "  Unnamed: 12  Unnamed: 13  \n",
       "0     413,485      73.2087  \n",
       "1      81,853      74.9759  \n",
       "2         894      74.4966  \n",
       "3         644      80.1242  \n",
       "4         732      78.9617  "
      ]
     },
     "execution_count": 8,
     "metadata": {},
     "output_type": "execute_result"
    }
   ],
   "source": [
    "excel_df.head()"
   ]
  },
  {
   "cell_type": "markdown",
   "metadata": {
    "slideshow": {
     "slide_type": "subslide"
    }
   },
   "source": [
    "## We can also try importing via the RStudio interface.\n",
    "\n",
    "```r\n",
    "library(readxl)\n",
    "\n",
    "csv_df = read.csv('presidential_2020.csv')\n",
    "excel_df = read_excel('presidential-2020/總統-A05-4-候選人得票數一覽表-各投開票所(南投縣).xls')\n",
    "head(csv_df)\n",
    "head(excel_df)\n",
    "```"
   ]
  },
  {
   "cell_type": "markdown",
   "metadata": {
    "slideshow": {
     "slide_type": "subslide"
    }
   },
   "source": [
    "## We write codes to integrate these spreadsheets into a CSV file"
   ]
  },
  {
   "cell_type": "code",
   "execution_count": 9,
   "metadata": {
    "slideshow": {
     "slide_type": "-"
    }
   },
   "outputs": [
    {
     "name": "stdout",
     "output_type": "stream",
     "text": [
      "Tidying 總統-A05-4-候選人得票數一覽表-各投開票所(宜蘭縣).xls\n",
      "Tidying 總統-A05-4-候選人得票數一覽表-各投開票所(彰化縣).xls\n",
      "Tidying 總統-A05-4-候選人得票數一覽表-各投開票所(金門縣).xls\n",
      "Tidying 總統-A05-4-候選人得票數一覽表-各投開票所(桃園市).xls\n",
      "Tidying 總統-A05-4-候選人得票數一覽表-各投開票所(苗栗縣).xls\n",
      "Tidying 總統-A05-4-候選人得票數一覽表-各投開票所(臺南市).xls\n",
      "Tidying 總統-A05-4-候選人得票數一覽表-各投開票所(雲林縣).xls\n",
      "Tidying 總統-A05-4-候選人得票數一覽表-各投開票所(南投縣).xls\n",
      "Tidying 總統-A05-4-候選人得票數一覽表-各投開票所(高雄市).xls\n",
      "Tidying 總統-A05-4-候選人得票數一覽表-各投開票所(臺北市).xls\n",
      "Tidying 總統-A05-4-候選人得票數一覽表-各投開票所(新北市).xls\n",
      "Tidying 總統-A05-4-候選人得票數一覽表-各投開票所(花蓮縣).xls\n",
      "Tidying 總統-A05-4-候選人得票數一覽表-各投開票所(新竹市).xls\n",
      "Tidying 總統-A05-4-候選人得票數一覽表-各投開票所(新竹縣).xls\n",
      "Tidying 總統-A05-4-候選人得票數一覽表-各投開票所(基隆市).xls\n",
      "Tidying 總統-A05-4-候選人得票數一覽表-各投開票所(連江縣).xls\n",
      "Tidying 總統-A05-4-候選人得票數一覽表-各投開票所(嘉義縣).xls\n",
      "Tidying 總統-A05-4-候選人得票數一覽表-各投開票所(嘉義市).xls\n",
      "Tidying 總統-A05-4-候選人得票數一覽表-各投開票所(屏東縣).xls\n",
      "Tidying 總統-A05-4-候選人得票數一覽表-各投開票所(澎湖縣).xls\n",
      "Tidying 總統-A05-4-候選人得票數一覽表-各投開票所(臺東縣).xls\n",
      "Tidying 總統-A05-4-候選人得票數一覽表-各投開票所(臺中市).xls\n"
     ]
    }
   ],
   "source": [
    "from presidential import Presidential\n",
    "\n",
    "presidential = Presidential('presidential-2020')\n",
    "presidential_df = presidential.adjust_presidential_df()\n",
    "presidential_df.to_csv('presidential_2020.csv', index=False)"
   ]
  },
  {
   "cell_type": "code",
   "execution_count": 10,
   "metadata": {
    "slideshow": {
     "slide_type": "subslide"
    }
   },
   "outputs": [
    {
     "data": {
      "text/html": [
       "<div>\n",
       "<style scoped>\n",
       "    .dataframe tbody tr th:only-of-type {\n",
       "        vertical-align: middle;\n",
       "    }\n",
       "\n",
       "    .dataframe tbody tr th {\n",
       "        vertical-align: top;\n",
       "    }\n",
       "\n",
       "    .dataframe thead th {\n",
       "        text-align: right;\n",
       "    }\n",
       "</style>\n",
       "<table border=\"1\" class=\"dataframe\">\n",
       "  <thead>\n",
       "    <tr style=\"text-align: right;\">\n",
       "      <th></th>\n",
       "      <th>county</th>\n",
       "      <th>town</th>\n",
       "      <th>village</th>\n",
       "      <th>office</th>\n",
       "      <th>number</th>\n",
       "      <th>candidate</th>\n",
       "      <th>votes</th>\n",
       "    </tr>\n",
       "  </thead>\n",
       "  <tbody>\n",
       "    <tr>\n",
       "      <th>0</th>\n",
       "      <td>宜蘭縣</td>\n",
       "      <td>宜蘭市</td>\n",
       "      <td>民族里</td>\n",
       "      <td>1</td>\n",
       "      <td>1</td>\n",
       "      <td>宋楚瑜/余湘</td>\n",
       "      <td>37</td>\n",
       "    </tr>\n",
       "    <tr>\n",
       "      <th>1</th>\n",
       "      <td>宜蘭縣</td>\n",
       "      <td>宜蘭市</td>\n",
       "      <td>民族里</td>\n",
       "      <td>2</td>\n",
       "      <td>1</td>\n",
       "      <td>宋楚瑜/余湘</td>\n",
       "      <td>31</td>\n",
       "    </tr>\n",
       "    <tr>\n",
       "      <th>2</th>\n",
       "      <td>宜蘭縣</td>\n",
       "      <td>宜蘭市</td>\n",
       "      <td>建軍里</td>\n",
       "      <td>3</td>\n",
       "      <td>1</td>\n",
       "      <td>宋楚瑜/余湘</td>\n",
       "      <td>19</td>\n",
       "    </tr>\n",
       "    <tr>\n",
       "      <th>3</th>\n",
       "      <td>宜蘭縣</td>\n",
       "      <td>宜蘭市</td>\n",
       "      <td>建軍里</td>\n",
       "      <td>4</td>\n",
       "      <td>1</td>\n",
       "      <td>宋楚瑜/余湘</td>\n",
       "      <td>29</td>\n",
       "    </tr>\n",
       "    <tr>\n",
       "      <th>4</th>\n",
       "      <td>宜蘭縣</td>\n",
       "      <td>宜蘭市</td>\n",
       "      <td>泰山里</td>\n",
       "      <td>5</td>\n",
       "      <td>1</td>\n",
       "      <td>宋楚瑜/余湘</td>\n",
       "      <td>25</td>\n",
       "    </tr>\n",
       "  </tbody>\n",
       "</table>\n",
       "</div>"
      ],
      "text/plain": [
       "  county town village  office number candidate  votes\n",
       "0    宜蘭縣  宜蘭市     民族里       1      1    宋楚瑜/余湘     37\n",
       "1    宜蘭縣  宜蘭市     民族里       2      1    宋楚瑜/余湘     31\n",
       "2    宜蘭縣  宜蘭市     建軍里       3      1    宋楚瑜/余湘     19\n",
       "3    宜蘭縣  宜蘭市     建軍里       4      1    宋楚瑜/余湘     29\n",
       "4    宜蘭縣  宜蘭市     泰山里       5      1    宋楚瑜/余湘     25"
      ]
     },
     "execution_count": 10,
     "metadata": {},
     "output_type": "execute_result"
    }
   ],
   "source": [
    "presidential_df.head()"
   ]
  },
  {
   "cell_type": "code",
   "execution_count": 11,
   "metadata": {
    "slideshow": {
     "slide_type": "subslide"
    }
   },
   "outputs": [
    {
     "data": {
      "text/html": [
       "<div>\n",
       "<style scoped>\n",
       "    .dataframe tbody tr th:only-of-type {\n",
       "        vertical-align: middle;\n",
       "    }\n",
       "\n",
       "    .dataframe tbody tr th {\n",
       "        vertical-align: top;\n",
       "    }\n",
       "\n",
       "    .dataframe thead th {\n",
       "        text-align: right;\n",
       "    }\n",
       "</style>\n",
       "<table border=\"1\" class=\"dataframe\">\n",
       "  <thead>\n",
       "    <tr style=\"text-align: right;\">\n",
       "      <th></th>\n",
       "      <th>county</th>\n",
       "      <th>town</th>\n",
       "      <th>village</th>\n",
       "      <th>office</th>\n",
       "      <th>number</th>\n",
       "      <th>candidate</th>\n",
       "      <th>votes</th>\n",
       "    </tr>\n",
       "  </thead>\n",
       "  <tbody>\n",
       "    <tr>\n",
       "      <th>51673</th>\n",
       "      <td>臺中市</td>\n",
       "      <td>和平區</td>\n",
       "      <td>梨山里</td>\n",
       "      <td>1845</td>\n",
       "      <td>3</td>\n",
       "      <td>蔡英文/賴清德</td>\n",
       "      <td>132</td>\n",
       "    </tr>\n",
       "    <tr>\n",
       "      <th>51674</th>\n",
       "      <td>臺中市</td>\n",
       "      <td>和平區</td>\n",
       "      <td>梨山里</td>\n",
       "      <td>1846</td>\n",
       "      <td>3</td>\n",
       "      <td>蔡英文/賴清德</td>\n",
       "      <td>107</td>\n",
       "    </tr>\n",
       "    <tr>\n",
       "      <th>51675</th>\n",
       "      <td>臺中市</td>\n",
       "      <td>和平區</td>\n",
       "      <td>梨山里</td>\n",
       "      <td>1847</td>\n",
       "      <td>3</td>\n",
       "      <td>蔡英文/賴清德</td>\n",
       "      <td>40</td>\n",
       "    </tr>\n",
       "    <tr>\n",
       "      <th>51676</th>\n",
       "      <td>臺中市</td>\n",
       "      <td>和平區</td>\n",
       "      <td>平等里</td>\n",
       "      <td>1848</td>\n",
       "      <td>3</td>\n",
       "      <td>蔡英文/賴清德</td>\n",
       "      <td>24</td>\n",
       "    </tr>\n",
       "    <tr>\n",
       "      <th>51677</th>\n",
       "      <td>臺中市</td>\n",
       "      <td>和平區</td>\n",
       "      <td>平等里</td>\n",
       "      <td>1849</td>\n",
       "      <td>3</td>\n",
       "      <td>蔡英文/賴清德</td>\n",
       "      <td>102</td>\n",
       "    </tr>\n",
       "  </tbody>\n",
       "</table>\n",
       "</div>"
      ],
      "text/plain": [
       "      county town village  office number candidate  votes\n",
       "51673    臺中市  和平區     梨山里    1845      3   蔡英文/賴清德    132\n",
       "51674    臺中市  和平區     梨山里    1846      3   蔡英文/賴清德    107\n",
       "51675    臺中市  和平區     梨山里    1847      3   蔡英文/賴清德     40\n",
       "51676    臺中市  和平區     平等里    1848      3   蔡英文/賴清德     24\n",
       "51677    臺中市  和平區     平等里    1849      3   蔡英文/賴清德    102"
      ]
     },
     "execution_count": 11,
     "metadata": {},
     "output_type": "execute_result"
    }
   ],
   "source": [
    "presidential_df.tail()"
   ]
  },
  {
   "cell_type": "markdown",
   "metadata": {
    "slideshow": {
     "slide_type": "subslide"
    }
   },
   "source": [
    "## Check if the summations are right with Python"
   ]
  },
  {
   "cell_type": "code",
   "execution_count": 12,
   "metadata": {
    "slideshow": {
     "slide_type": "-"
    }
   },
   "outputs": [
    {
     "data": {
      "text/plain": [
       "number\n",
       "1     608590\n",
       "2    5522119\n",
       "3    8170231\n",
       "Name: votes, dtype: int64"
      ]
     },
     "execution_count": 12,
     "metadata": {},
     "output_type": "execute_result"
    }
   ],
   "source": [
    "ttl_votes = presidential_df['votes'].sum()\n",
    "ttl_votes_by_candidates = presidential_df.groupby('number')['votes'].sum()\n",
    "ttl_votes_by_candidates"
   ]
  },
  {
   "cell_type": "markdown",
   "metadata": {
    "slideshow": {
     "slide_type": "subslide"
    }
   },
   "source": [
    "## Check if the summations are right with R\n",
    "\n",
    "```r\n",
    "library(dplyr)\n",
    "\n",
    "csv_df %>% \n",
    "    group_by(number) %>% \n",
    "    summarise(ttl_votes = sum(votes))\n",
    "```"
   ]
  },
  {
   "cell_type": "markdown",
   "metadata": {
    "slideshow": {
     "slide_type": "subslide"
    }
   },
   "source": [
    "## National percentage is our target vector to be compared"
   ]
  },
  {
   "cell_type": "code",
   "execution_count": 13,
   "metadata": {
    "slideshow": {
     "slide_type": "subslide"
    }
   },
   "outputs": [
    {
     "data": {
      "text/plain": [
       "number\n",
       "1    0.042556\n",
       "2    0.386137\n",
       "3    0.571307\n",
       "Name: votes, dtype: float64"
      ]
     },
     "execution_count": 13,
     "metadata": {},
     "output_type": "execute_result"
    }
   ],
   "source": [
    "national_percentage = ttl_votes_by_candidates / ttl_votes\n",
    "national_percentage"
   ]
  },
  {
   "cell_type": "markdown",
   "metadata": {
    "slideshow": {
     "slide_type": "subslide"
    }
   },
   "source": [
    "## Total votes for each village"
   ]
  },
  {
   "cell_type": "code",
   "execution_count": 14,
   "metadata": {
    "slideshow": {
     "slide_type": "-"
    }
   },
   "outputs": [
    {
     "data": {
      "text/plain": [
       "combined_key\n",
       "南投縣中寮鄉中寮村      443\n",
       "南投縣中寮鄉內城村      297\n",
       "南投縣中寮鄉八仙村      535\n",
       "南投縣中寮鄉和興村      422\n",
       "南投縣中寮鄉崁頂村      304\n",
       "             ...  \n",
       "高雄市鼓山區鼓岩里      847\n",
       "高雄市鼓山區鼓峰里     1425\n",
       "高雄市鼓山區龍井里      906\n",
       "高雄市鼓山區龍子里    11410\n",
       "高雄市鼓山區龍水里    16333\n",
       "Name: votes, Length: 7737, dtype: int64"
      ]
     },
     "execution_count": 14,
     "metadata": {},
     "output_type": "execute_result"
    }
   ],
   "source": [
    "combined_key = presidential_df['county'].str.cat(presidential_df['town']).str.cat(presidential_df['village'])\n",
    "presidential_df = presidential_df.assign(combined_key=combined_key)\n",
    "ttl_votes_by_combined_key = presidential_df.groupby(['combined_key'])['votes'].sum()\n",
    "ttl_votes_by_combined_key"
   ]
  },
  {
   "cell_type": "markdown",
   "metadata": {
    "slideshow": {
     "slide_type": "subslide"
    }
   },
   "source": [
    "## Votes percentage by each candidate and village"
   ]
  },
  {
   "cell_type": "code",
   "execution_count": 15,
   "metadata": {
    "slideshow": {
     "slide_type": "-"
    }
   },
   "outputs": [],
   "source": [
    "ttl_votes_by_combined_key_candidates = presidential_df.groupby(['combined_key', 'number'])['votes'].sum()\n",
    "soong = ttl_votes_by_combined_key_candidates[:, '1'] / ttl_votes_by_combined_key\n",
    "han = ttl_votes_by_combined_key_candidates[:, '2'] / ttl_votes_by_combined_key\n",
    "tsai = ttl_votes_by_combined_key_candidates[:, '3'] / ttl_votes_by_combined_key\n",
    "votes_obtained = pd.concat([soong, han, tsai], axis=1)\n",
    "votes_obtained.columns = ['soong', 'han', 'tsai']"
   ]
  },
  {
   "cell_type": "code",
   "execution_count": 16,
   "metadata": {
    "slideshow": {
     "slide_type": "subslide"
    }
   },
   "outputs": [
    {
     "data": {
      "text/html": [
       "<div>\n",
       "<style scoped>\n",
       "    .dataframe tbody tr th:only-of-type {\n",
       "        vertical-align: middle;\n",
       "    }\n",
       "\n",
       "    .dataframe tbody tr th {\n",
       "        vertical-align: top;\n",
       "    }\n",
       "\n",
       "    .dataframe thead th {\n",
       "        text-align: right;\n",
       "    }\n",
       "</style>\n",
       "<table border=\"1\" class=\"dataframe\">\n",
       "  <thead>\n",
       "    <tr style=\"text-align: right;\">\n",
       "      <th></th>\n",
       "      <th>soong</th>\n",
       "      <th>han</th>\n",
       "      <th>tsai</th>\n",
       "    </tr>\n",
       "    <tr>\n",
       "      <th>combined_key</th>\n",
       "      <th></th>\n",
       "      <th></th>\n",
       "      <th></th>\n",
       "    </tr>\n",
       "  </thead>\n",
       "  <tbody>\n",
       "    <tr>\n",
       "      <th>南投縣中寮鄉中寮村</th>\n",
       "      <td>0.040632</td>\n",
       "      <td>0.489842</td>\n",
       "      <td>0.469526</td>\n",
       "    </tr>\n",
       "    <tr>\n",
       "      <th>南投縣中寮鄉內城村</th>\n",
       "      <td>0.057239</td>\n",
       "      <td>0.474747</td>\n",
       "      <td>0.468013</td>\n",
       "    </tr>\n",
       "    <tr>\n",
       "      <th>南投縣中寮鄉八仙村</th>\n",
       "      <td>0.039252</td>\n",
       "      <td>0.435514</td>\n",
       "      <td>0.525234</td>\n",
       "    </tr>\n",
       "    <tr>\n",
       "      <th>南投縣中寮鄉和興村</th>\n",
       "      <td>0.021327</td>\n",
       "      <td>0.500000</td>\n",
       "      <td>0.478673</td>\n",
       "    </tr>\n",
       "    <tr>\n",
       "      <th>南投縣中寮鄉崁頂村</th>\n",
       "      <td>0.052632</td>\n",
       "      <td>0.381579</td>\n",
       "      <td>0.565789</td>\n",
       "    </tr>\n",
       "    <tr>\n",
       "      <th>...</th>\n",
       "      <td>...</td>\n",
       "      <td>...</td>\n",
       "      <td>...</td>\n",
       "    </tr>\n",
       "    <tr>\n",
       "      <th>高雄市鼓山區鼓岩里</th>\n",
       "      <td>0.014168</td>\n",
       "      <td>0.309327</td>\n",
       "      <td>0.676505</td>\n",
       "    </tr>\n",
       "    <tr>\n",
       "      <th>高雄市鼓山區鼓峰里</th>\n",
       "      <td>0.032982</td>\n",
       "      <td>0.473684</td>\n",
       "      <td>0.493333</td>\n",
       "    </tr>\n",
       "    <tr>\n",
       "      <th>高雄市鼓山區龍井里</th>\n",
       "      <td>0.023179</td>\n",
       "      <td>0.367550</td>\n",
       "      <td>0.609272</td>\n",
       "    </tr>\n",
       "    <tr>\n",
       "      <th>高雄市鼓山區龍子里</th>\n",
       "      <td>0.032340</td>\n",
       "      <td>0.381420</td>\n",
       "      <td>0.586240</td>\n",
       "    </tr>\n",
       "    <tr>\n",
       "      <th>高雄市鼓山區龍水里</th>\n",
       "      <td>0.037654</td>\n",
       "      <td>0.398947</td>\n",
       "      <td>0.563399</td>\n",
       "    </tr>\n",
       "  </tbody>\n",
       "</table>\n",
       "<p>7737 rows × 3 columns</p>\n",
       "</div>"
      ],
      "text/plain": [
       "                 soong       han      tsai\n",
       "combined_key                              \n",
       "南投縣中寮鄉中寮村     0.040632  0.489842  0.469526\n",
       "南投縣中寮鄉內城村     0.057239  0.474747  0.468013\n",
       "南投縣中寮鄉八仙村     0.039252  0.435514  0.525234\n",
       "南投縣中寮鄉和興村     0.021327  0.500000  0.478673\n",
       "南投縣中寮鄉崁頂村     0.052632  0.381579  0.565789\n",
       "...                ...       ...       ...\n",
       "高雄市鼓山區鼓岩里     0.014168  0.309327  0.676505\n",
       "高雄市鼓山區鼓峰里     0.032982  0.473684  0.493333\n",
       "高雄市鼓山區龍井里     0.023179  0.367550  0.609272\n",
       "高雄市鼓山區龍子里     0.032340  0.381420  0.586240\n",
       "高雄市鼓山區龍水里     0.037654  0.398947  0.563399\n",
       "\n",
       "[7737 rows x 3 columns]"
      ]
     },
     "execution_count": 16,
     "metadata": {},
     "output_type": "execute_result"
    }
   ],
   "source": [
    "votes_obtained"
   ]
  },
  {
   "cell_type": "markdown",
   "metadata": {
    "slideshow": {
     "slide_type": "subslide"
    }
   },
   "source": [
    "## Calculate cosine similarity"
   ]
  },
  {
   "cell_type": "code",
   "execution_count": 17,
   "metadata": {
    "slideshow": {
     "slide_type": "-"
    }
   },
   "outputs": [],
   "source": [
    "a = national_percentage.values\n",
    "a_norm = np.linalg.norm(a)\n",
    "cos_similarities = []\n",
    "for i in range(votes_obtained.shape[0]):\n",
    "    b = votes_obtained.iloc[i, :].values\n",
    "    b_norm = np.linalg.norm(b)\n",
    "    ab = np.dot(a, b)\n",
    "    cos_similarity = np.dot(a, b) / (a_norm*b_norm)\n",
    "    cos_similarities.append(cos_similarity)\n",
    "votes_obtained = votes_obtained.assign(cosine_similarity=cos_similarities)\n",
    "votes_obtained = votes_obtained.reset_index()"
   ]
  },
  {
   "cell_type": "code",
   "execution_count": 18,
   "metadata": {
    "slideshow": {
     "slide_type": "subslide"
    }
   },
   "outputs": [
    {
     "data": {
      "text/html": [
       "<div>\n",
       "<style scoped>\n",
       "    .dataframe tbody tr th:only-of-type {\n",
       "        vertical-align: middle;\n",
       "    }\n",
       "\n",
       "    .dataframe tbody tr th {\n",
       "        vertical-align: top;\n",
       "    }\n",
       "\n",
       "    .dataframe thead th {\n",
       "        text-align: right;\n",
       "    }\n",
       "</style>\n",
       "<table border=\"1\" class=\"dataframe\">\n",
       "  <thead>\n",
       "    <tr style=\"text-align: right;\">\n",
       "      <th></th>\n",
       "      <th>combined_key</th>\n",
       "      <th>soong</th>\n",
       "      <th>han</th>\n",
       "      <th>tsai</th>\n",
       "      <th>cosine_similarity</th>\n",
       "    </tr>\n",
       "  </thead>\n",
       "  <tbody>\n",
       "    <tr>\n",
       "      <th>0</th>\n",
       "      <td>南投縣中寮鄉中寮村</td>\n",
       "      <td>0.040632</td>\n",
       "      <td>0.489842</td>\n",
       "      <td>0.469526</td>\n",
       "      <td>0.977648</td>\n",
       "    </tr>\n",
       "    <tr>\n",
       "      <th>1</th>\n",
       "      <td>南投縣中寮鄉內城村</td>\n",
       "      <td>0.057239</td>\n",
       "      <td>0.474747</td>\n",
       "      <td>0.468013</td>\n",
       "      <td>0.980246</td>\n",
       "    </tr>\n",
       "    <tr>\n",
       "      <th>2</th>\n",
       "      <td>南投縣中寮鄉八仙村</td>\n",
       "      <td>0.039252</td>\n",
       "      <td>0.435514</td>\n",
       "      <td>0.525234</td>\n",
       "      <td>0.995217</td>\n",
       "    </tr>\n",
       "    <tr>\n",
       "      <th>3</th>\n",
       "      <td>南投縣中寮鄉和興村</td>\n",
       "      <td>0.021327</td>\n",
       "      <td>0.500000</td>\n",
       "      <td>0.478673</td>\n",
       "      <td>0.977015</td>\n",
       "    </tr>\n",
       "    <tr>\n",
       "      <th>4</th>\n",
       "      <td>南投縣中寮鄉崁頂村</td>\n",
       "      <td>0.052632</td>\n",
       "      <td>0.381579</td>\n",
       "      <td>0.565789</td>\n",
       "      <td>0.999882</td>\n",
       "    </tr>\n",
       "  </tbody>\n",
       "</table>\n",
       "</div>"
      ],
      "text/plain": [
       "  combined_key     soong       han      tsai  cosine_similarity\n",
       "0    南投縣中寮鄉中寮村  0.040632  0.489842  0.469526           0.977648\n",
       "1    南投縣中寮鄉內城村  0.057239  0.474747  0.468013           0.980246\n",
       "2    南投縣中寮鄉八仙村  0.039252  0.435514  0.525234           0.995217\n",
       "3    南投縣中寮鄉和興村  0.021327  0.500000  0.478673           0.977015\n",
       "4    南投縣中寮鄉崁頂村  0.052632  0.381579  0.565789           0.999882"
      ]
     },
     "execution_count": 18,
     "metadata": {},
     "output_type": "execute_result"
    }
   ],
   "source": [
    "votes_obtained.head()"
   ]
  },
  {
   "cell_type": "markdown",
   "metadata": {
    "slideshow": {
     "slide_type": "subslide"
    }
   },
   "source": [
    "## Sort by cosine similarity with descending order to find 「章魚里」"
   ]
  },
  {
   "cell_type": "code",
   "execution_count": 19,
   "metadata": {
    "slideshow": {
     "slide_type": "-"
    }
   },
   "outputs": [
    {
     "data": {
      "text/html": [
       "<div>\n",
       "<style scoped>\n",
       "    .dataframe tbody tr th:only-of-type {\n",
       "        vertical-align: middle;\n",
       "    }\n",
       "\n",
       "    .dataframe tbody tr th {\n",
       "        vertical-align: top;\n",
       "    }\n",
       "\n",
       "    .dataframe thead th {\n",
       "        text-align: right;\n",
       "    }\n",
       "</style>\n",
       "<table border=\"1\" class=\"dataframe\">\n",
       "  <thead>\n",
       "    <tr style=\"text-align: right;\">\n",
       "      <th></th>\n",
       "      <th>combined_key</th>\n",
       "      <th>soong</th>\n",
       "      <th>han</th>\n",
       "      <th>tsai</th>\n",
       "      <th>cosine_similarity</th>\n",
       "    </tr>\n",
       "  </thead>\n",
       "  <tbody>\n",
       "    <tr>\n",
       "      <th>0</th>\n",
       "      <td>嘉義縣番路鄉內甕村</td>\n",
       "      <td>0.042553</td>\n",
       "      <td>0.386018</td>\n",
       "      <td>0.571429</td>\n",
       "      <td>1.000000</td>\n",
       "    </tr>\n",
       "    <tr>\n",
       "      <th>1</th>\n",
       "      <td>臺南市東區關聖里</td>\n",
       "      <td>0.042450</td>\n",
       "      <td>0.386295</td>\n",
       "      <td>0.571255</td>\n",
       "      <td>1.000000</td>\n",
       "    </tr>\n",
       "    <tr>\n",
       "      <th>2</th>\n",
       "      <td>臺南市中西區南門里</td>\n",
       "      <td>0.043410</td>\n",
       "      <td>0.385460</td>\n",
       "      <td>0.571130</td>\n",
       "      <td>0.999999</td>\n",
       "    </tr>\n",
       "    <tr>\n",
       "      <th>3</th>\n",
       "      <td>新北市汐止區保長里</td>\n",
       "      <td>0.042833</td>\n",
       "      <td>0.386847</td>\n",
       "      <td>0.570320</td>\n",
       "      <td>0.999999</td>\n",
       "    </tr>\n",
       "    <tr>\n",
       "      <th>4</th>\n",
       "      <td>新北市金山區五湖里</td>\n",
       "      <td>0.043765</td>\n",
       "      <td>0.385632</td>\n",
       "      <td>0.570603</td>\n",
       "      <td>0.999998</td>\n",
       "    </tr>\n",
       "    <tr>\n",
       "      <th>5</th>\n",
       "      <td>臺北市南港區東新里</td>\n",
       "      <td>0.042036</td>\n",
       "      <td>0.385298</td>\n",
       "      <td>0.572666</td>\n",
       "      <td>0.999997</td>\n",
       "    </tr>\n",
       "    <tr>\n",
       "      <th>6</th>\n",
       "      <td>臺北市內湖區西湖里</td>\n",
       "      <td>0.041285</td>\n",
       "      <td>0.386008</td>\n",
       "      <td>0.572707</td>\n",
       "      <td>0.999997</td>\n",
       "    </tr>\n",
       "    <tr>\n",
       "      <th>7</th>\n",
       "      <td>新北市中和區清穗里</td>\n",
       "      <td>0.041865</td>\n",
       "      <td>0.385347</td>\n",
       "      <td>0.572788</td>\n",
       "      <td>0.999997</td>\n",
       "    </tr>\n",
       "    <tr>\n",
       "      <th>8</th>\n",
       "      <td>臺南市北區重興里</td>\n",
       "      <td>0.042837</td>\n",
       "      <td>0.384831</td>\n",
       "      <td>0.572331</td>\n",
       "      <td>0.999997</td>\n",
       "    </tr>\n",
       "    <tr>\n",
       "      <th>9</th>\n",
       "      <td>新北市板橋區景星里</td>\n",
       "      <td>0.042515</td>\n",
       "      <td>0.387607</td>\n",
       "      <td>0.569878</td>\n",
       "      <td>0.999996</td>\n",
       "    </tr>\n",
       "  </tbody>\n",
       "</table>\n",
       "</div>"
      ],
      "text/plain": [
       "  combined_key     soong       han      tsai  cosine_similarity\n",
       "0    嘉義縣番路鄉內甕村  0.042553  0.386018  0.571429           1.000000\n",
       "1     臺南市東區關聖里  0.042450  0.386295  0.571255           1.000000\n",
       "2    臺南市中西區南門里  0.043410  0.385460  0.571130           0.999999\n",
       "3    新北市汐止區保長里  0.042833  0.386847  0.570320           0.999999\n",
       "4    新北市金山區五湖里  0.043765  0.385632  0.570603           0.999998\n",
       "5    臺北市南港區東新里  0.042036  0.385298  0.572666           0.999997\n",
       "6    臺北市內湖區西湖里  0.041285  0.386008  0.572707           0.999997\n",
       "7    新北市中和區清穗里  0.041865  0.385347  0.572788           0.999997\n",
       "8     臺南市北區重興里  0.042837  0.384831  0.572331           0.999997\n",
       "9    新北市板橋區景星里  0.042515  0.387607  0.569878           0.999996"
      ]
     },
     "execution_count": 19,
     "metadata": {},
     "output_type": "execute_result"
    }
   ],
   "source": [
    "votes_obtained.sort_values(['cosine_similarity', 'combined_key'], ascending=[False, True]).reset_index(drop=True).head(10)"
   ]
  },
  {
   "cell_type": "markdown",
   "metadata": {
    "slideshow": {
     "slide_type": "subslide"
    }
   },
   "source": [
    "## Can we find the similarity of our own village?\n",
    "\n",
    "Definitely."
   ]
  },
  {
   "cell_type": "code",
   "execution_count": 20,
   "metadata": {},
   "outputs": [],
   "source": [
    "def find_my_village(my_village, df):\n",
    "    df = df.sort_values(['cosine_similarity', 'combined_key'], ascending=[False, True]).reset_index(drop=True)\n",
    "    my_village_df = df[df['combined_key'] == my_village]\n",
    "    return my_village_df"
   ]
  },
  {
   "cell_type": "code",
   "execution_count": 21,
   "metadata": {
    "slideshow": {
     "slide_type": "subslide"
    }
   },
   "outputs": [
    {
     "name": "stdout",
     "output_type": "stream",
     "text": [
      "高雄市鼓山區桃源里的餘弦相似度為0.9985, 排名1714/7737\n"
     ]
    },
    {
     "data": {
      "text/html": [
       "<div>\n",
       "<style scoped>\n",
       "    .dataframe tbody tr th:only-of-type {\n",
       "        vertical-align: middle;\n",
       "    }\n",
       "\n",
       "    .dataframe tbody tr th {\n",
       "        vertical-align: top;\n",
       "    }\n",
       "\n",
       "    .dataframe thead th {\n",
       "        text-align: right;\n",
       "    }\n",
       "</style>\n",
       "<table border=\"1\" class=\"dataframe\">\n",
       "  <thead>\n",
       "    <tr style=\"text-align: right;\">\n",
       "      <th></th>\n",
       "      <th>combined_key</th>\n",
       "      <th>soong</th>\n",
       "      <th>han</th>\n",
       "      <th>tsai</th>\n",
       "      <th>cosine_similarity</th>\n",
       "    </tr>\n",
       "  </thead>\n",
       "  <tbody>\n",
       "    <tr>\n",
       "      <th>1714</th>\n",
       "      <td>高雄市鼓山區桃源里</td>\n",
       "      <td>0.023419</td>\n",
       "      <td>0.370023</td>\n",
       "      <td>0.606557</td>\n",
       "      <td>0.998506</td>\n",
       "    </tr>\n",
       "  </tbody>\n",
       "</table>\n",
       "</div>"
      ],
      "text/plain": [
       "     combined_key     soong       han      tsai  cosine_similarity\n",
       "1714    高雄市鼓山區桃源里  0.023419  0.370023  0.606557           0.998506"
      ]
     },
     "execution_count": 21,
     "metadata": {},
     "output_type": "execute_result"
    }
   ],
   "source": [
    "my_village = '高雄市鼓山區桃源里'\n",
    "my_village_df = find_my_village(my_village, votes_obtained)\n",
    "my_village_similarity = my_village_df['cosine_similarity'].values[0]\n",
    "my_village_rank = my_village_df.index[0]\n",
    "n_rows = votes_obtained.shape[0]\n",
    "print(\"{}的餘弦相似度為{:.4f}, 排名{}/{}\".format(my_village, my_village_similarity, my_village_rank, n_rows))\n",
    "my_village_df"
   ]
  },
  {
   "cell_type": "markdown",
   "metadata": {
    "slideshow": {
     "slide_type": "slide"
    }
   },
   "source": [
    "## Feeling movivated?"
   ]
  },
  {
   "cell_type": "markdown",
   "metadata": {
    "slideshow": {
     "slide_type": "subslide"
    }
   },
   "source": [
    "## Start with the most practical one: Python\n",
    "\n",
    "- Procedural programming with Python\n",
    "- Object-oriented programming with Python\n",
    "- Using Python libraries"
   ]
  },
  {
   "cell_type": "markdown",
   "metadata": {
    "slideshow": {
     "slide_type": "subslide"
    }
   },
   "source": [
    "## Start with the most practical one: R\n",
    "\n",
    "- Procedural programming with R\n",
    "- Functional programming with R\n",
    "- Using R libraries"
   ]
  },
  {
   "cell_type": "markdown",
   "metadata": {
    "slideshow": {
     "slide_type": "subslide"
    }
   },
   "source": [
    "## Resources I've used when learning Python\n",
    "\n",
    "- [Introducing Python](https://www.amazon.com/Introducing-Python-Modern-Computing-Packages/dp/1449359361)\n",
    "- [A Whirlwind Tour of Python](https://jakevdp.github.io/WhirlwindTourOfPython/index.html)\n",
    "- [Python Data Science Handbook](https://jakevdp.github.io/PythonDataScienceHandbook/)"
   ]
  },
  {
   "cell_type": "markdown",
   "metadata": {
    "slideshow": {
     "slide_type": "subslide"
    }
   },
   "source": [
    "## Resources I've used when learning R\n",
    "\n",
    "- [The Art of R Programming](https://www.amazon.com/Art-Programming-Statistical-Software-Design/dp/1593273843)\n",
    "- [Advanced R](https://adv-r.hadley.nz/)\n",
    "- [R for Data Science](https://r4ds.had.co.nz/)\n",
    "- [Data Science Specialization](https://www.coursera.org/specializations/jhu-data-science)\n",
    "- [Statistics with R Specialization](https://www.coursera.org/specializations/statistics)"
   ]
  },
  {
   "cell_type": "markdown",
   "metadata": {
    "slideshow": {
     "slide_type": "subslide"
    }
   },
   "source": [
    "## Learning resources from me\n",
    "\n",
    "- [數據交點](https://www.datainpoint.com)\n",
    "- [Substack](https://datainpoint.substack.com/about)"
   ]
  },
  {
   "cell_type": "markdown",
   "metadata": {
    "slideshow": {
     "slide_type": "subslide"
    }
   },
   "source": [
    "## Phew, that is a lot to catch up...\n",
    "\n",
    "You do not have to finish every course or book from end to end.\n",
    "\n",
    "![](https://media.giphy.com/media/JMV7IKoqzxlrW/giphy.gif)\n",
    "\n",
    "Source: <https://giphy.com/>"
   ]
  }
 ],
 "metadata": {
  "celltoolbar": "Slideshow",
  "kernelspec": {
   "display_name": "Python Data Analysis",
   "language": "python",
   "name": "pyda"
  },
  "language_info": {
   "codemirror_mode": {
    "name": "ipython",
    "version": 3
   },
   "file_extension": ".py",
   "mimetype": "text/x-python",
   "name": "python",
   "nbconvert_exporter": "python",
   "pygments_lexer": "ipython3",
   "version": "3.6.8"
  }
 },
 "nbformat": 4,
 "nbformat_minor": 2
}
